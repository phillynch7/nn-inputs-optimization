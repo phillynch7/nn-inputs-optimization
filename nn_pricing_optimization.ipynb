{
 "cells": [
  {
   "cell_type": "code",
   "execution_count": 1,
   "metadata": {},
   "outputs": [
    {
     "name": "stderr",
     "output_type": "stream",
     "text": [
      "Using TensorFlow backend.\n"
     ]
    }
   ],
   "source": [
    "import numpy as np\n",
    "import matplotlib.pylab as plt\n",
    "import keras\n",
    "import keras.backend as K\n",
    "from keras.models import Sequential, Model\n",
    "from keras.layers import *\n",
    "from keras.optimizers import Adam\n",
    "\n",
    "%matplotlib inline\n",
    "np.set_printoptions(suppress=True)"
   ]
  },
  {
   "cell_type": "markdown",
   "metadata": {},
   "source": [
    "# SINGLE ITEM"
   ]
  },
  {
   "cell_type": "markdown",
   "metadata": {},
   "source": [
    "## data"
   ]
  },
  {
   "cell_type": "code",
   "execution_count": 2,
   "metadata": {},
   "outputs": [],
   "source": [
    "# number of obs\n",
    "n = 1000"
   ]
  },
  {
   "cell_type": "code",
   "execution_count": 3,
   "metadata": {},
   "outputs": [],
   "source": [
    "# random prices and other variables\n",
    "prices = np.random.uniform(20, 200, size=(n, 1)).astype(np.float32)\n",
    "xs = np.random.rand(n,5).astype(np.float32)"
   ]
  },
  {
   "cell_type": "code",
   "execution_count": 4,
   "metadata": {},
   "outputs": [],
   "source": [
    "# create beta coefficients\n",
    "beta_0 = np.array(([300],))\n",
    "beta_p = np.array(([-1.5],))\n",
    "betas_x = np.random.normal(size=(5,1)).astype(np.float32)"
   ]
  },
  {
   "cell_type": "markdown",
   "metadata": {},
   "source": [
    "TODO: markdown for optimal price calculation"
   ]
  },
  {
   "cell_type": "code",
   "execution_count": 5,
   "metadata": {},
   "outputs": [],
   "source": [
    "# noise\n",
    "noise = np.random.normal(size=(n,1)).astype(np.float32)"
   ]
  },
  {
   "cell_type": "code",
   "execution_count": 6,
   "metadata": {},
   "outputs": [],
   "source": [
    "# create demand to forecast\n",
    "y = beta_0 + beta_p*prices + np.dot(xs, betas_x) + noise\n",
    "y = np.maximum(0, y)"
   ]
  },
  {
   "cell_type": "code",
   "execution_count": 7,
   "metadata": {},
   "outputs": [],
   "source": [
    "# train/test ids\n",
    "trn = np.arange(int(n*.8))\n",
    "tst = np.arange(int(n*.8), n)"
   ]
  },
  {
   "cell_type": "code",
   "execution_count": 8,
   "metadata": {
    "scrolled": true
   },
   "outputs": [
    {
     "data": {
      "text/plain": [
       "array([[ 100.]])"
      ]
     },
     "execution_count": 8,
     "metadata": {},
     "output_type": "execute_result"
    }
   ],
   "source": [
    "# optimal price\n",
    "opt_price = -beta_0/(2*beta_p)\n",
    "opt_price"
   ]
  },
  {
   "cell_type": "markdown",
   "metadata": {},
   "source": [
    "## model"
   ]
  },
  {
   "cell_type": "code",
   "execution_count": 9,
   "metadata": {},
   "outputs": [],
   "source": [
    "# price and X inputs\n",
    "inp_p = Input((1,), name='inp_p')\n",
    "inp_x = Input((5,), name='inp_x')"
   ]
  },
  {
   "cell_type": "code",
   "execution_count": 10,
   "metadata": {},
   "outputs": [],
   "source": [
    "# concat the inputs\n",
    "x = Concatenate(name='concat')([inp_p, inp_x])\n",
    "\n",
    "# single dense hidden layer\n",
    "x = Dense(3, name='hid')(x)\n",
    "\n",
    "# output for predicting demand\n",
    "out = Dense(1, name='out')(x)\n",
    "\n",
    "# build and compile the model\n",
    "model = Model([inp_p, inp_x], out)\n",
    "model.compile(Adam(lr=.01), loss='mean_squared_error')"
   ]
  },
  {
   "cell_type": "code",
   "execution_count": 11,
   "metadata": {
    "scrolled": true
   },
   "outputs": [],
   "source": [
    "# train\n",
    "hist = model.fit([prices[trn], xs[trn]], y[trn],\n",
    "                 validation_data=[[prices[tst], xs[tst]], y[tst]],\n",
    "                 verbose=0,\n",
    "                 epochs=200)"
   ]
  },
  {
   "cell_type": "markdown",
   "metadata": {},
   "source": [
    "## optimization"
   ]
  },
  {
   "cell_type": "code",
   "execution_count": 12,
   "metadata": {},
   "outputs": [],
   "source": [
    "# make model copy for price\n",
    "model_p = keras.models.clone_model(model)\n",
    "model_p.set_weights(model.get_weights())"
   ]
  },
  {
   "cell_type": "code",
   "execution_count": 13,
   "metadata": {},
   "outputs": [],
   "source": [
    "# \"freeze\" the model\n",
    "# we want our model for demand to stay the same\n",
    "# while the price input is optimized\n",
    "for layer in model_p.layers:\n",
    "    layer.trainable = False"
   ]
  },
  {
   "cell_type": "code",
   "execution_count": 14,
   "metadata": {},
   "outputs": [
    {
     "data": {
      "text/plain": [
       "{'concat': <keras.layers.merge.Concatenate at 0x1182b9748>,\n",
       " 'hid': <keras.layers.core.Dense at 0x1182b9908>,\n",
       " 'inp_p': <keras.engine.topology.InputLayer at 0x1182b9438>,\n",
       " 'inp_x': <keras.engine.topology.InputLayer at 0x1182b9630>,\n",
       " 'out': <keras.layers.core.Dense at 0x12148bdd8>}"
      ]
     },
     "execution_count": 14,
     "metadata": {},
     "output_type": "execute_result"
    }
   ],
   "source": [
    "# dict of layers\n",
    "ls = {l.name:l for l in model_p.layers}\n",
    "ls"
   ]
  },
  {
   "cell_type": "code",
   "execution_count": 15,
   "metadata": {},
   "outputs": [],
   "source": [
    "# add a single unit dense inbetween price input and hidden layer\n",
    "# this will create a single trainable weight\n",
    "# we will feed the input all 1's so it can learn the optimal price\n",
    "p = Dense(1, use_bias=False, name='price')(ls['inp_p'].output)"
   ]
  },
  {
   "cell_type": "code",
   "execution_count": 16,
   "metadata": {},
   "outputs": [],
   "source": [
    "# concat the inputs and send through hidden layers like before\n",
    "x = ls['concat']([p, ls['inp_x'].output])\n",
    "x = ls['hid'](x)\n",
    "x = ls['out'](x)"
   ]
  },
  {
   "cell_type": "code",
   "execution_count": 17,
   "metadata": {},
   "outputs": [],
   "source": [
    "# our output of the last model was an estimate for demand\n",
    "# so now we multiply that by the trained price to get revenue\n",
    "out = Multiply(name='revenue_out')([p, x])"
   ]
  },
  {
   "cell_type": "code",
   "execution_count": 18,
   "metadata": {},
   "outputs": [],
   "source": [
    "# build model\n",
    "model_p = Model([ls['inp_p'].input, ls['inp_x'].input], out)"
   ]
  },
  {
   "cell_type": "code",
   "execution_count": 19,
   "metadata": {},
   "outputs": [],
   "source": [
    "# we want to maximize revenue, but keras minizises loss\n",
    "# so we'll just make our loss the negative revenue\n",
    "def rev_loss(y_true, y_pred):\n",
    "    return -K.mean(y_pred)"
   ]
  },
  {
   "cell_type": "code",
   "execution_count": 20,
   "metadata": {},
   "outputs": [],
   "source": [
    "# compile model\n",
    "model_p.compile(Adam(lr=.1), loss=rev_loss)"
   ]
  },
  {
   "cell_type": "code",
   "execution_count": 21,
   "metadata": {},
   "outputs": [],
   "source": [
    "# callback to track layer weights\n",
    "class WtTracker(keras.callbacks.Callback):\n",
    "    def __init__(self, layer, display=5):\n",
    "        self.seen = 0\n",
    "        self.layer = layer\n",
    "        self.display = display\n",
    "\n",
    "    def on_epoch_end(self,batch,logs={}):\n",
    "        self.seen += 1\n",
    "        if self.seen % self.display == 0:\n",
    "            wts = self.layer.get_weights()[0].flatten().round(2)\n",
    "            print(f'epoch {self.seen}, price {wts}')"
   ]
  },
  {
   "cell_type": "code",
   "execution_count": 22,
   "metadata": {},
   "outputs": [
    {
     "name": "stdout",
     "output_type": "stream",
     "text": [
      "epoch 5, price [ 16.57999992]\n",
      "epoch 10, price [ 30.71999931]\n",
      "epoch 15, price [ 43.47999954]\n",
      "epoch 20, price [ 54.81000137]\n",
      "epoch 25, price [ 64.69000244]\n",
      "epoch 30, price [ 73.12000275]\n",
      "epoch 35, price [ 80.12000275]\n",
      "epoch 40, price [ 85.76999664]\n",
      "epoch 45, price [ 90.16000366]\n",
      "epoch 50, price [ 93.45999908]\n",
      "epoch 55, price [ 95.81999969]\n",
      "epoch 60, price [ 97.44000244]\n",
      "epoch 65, price [ 98.5]\n",
      "epoch 70, price [ 99.15000153]\n",
      "epoch 75, price [ 99.52999878]\n",
      "epoch 80, price [ 99.73999786]\n",
      "epoch 85, price [ 99.83999634]\n",
      "epoch 90, price [ 99.88999939]\n",
      "epoch 95, price [ 99.91999817]\n",
      "epoch 100, price [ 99.93000031]\n",
      "epoch 105, price [ 99.93000031]\n",
      "epoch 110, price [ 99.93000031]\n",
      "epoch 115, price [ 99.93000031]\n",
      "epoch 120, price [ 99.93000031]\n"
     ]
    }
   ],
   "source": [
    "# train\n",
    "hist = model_p.fit([np.ones((len(xs), 1)), xs], y,\n",
    "                   epochs=120,\n",
    "                   verbose=0,\n",
    "                   callbacks=[WtTracker(model_p.get_layer('price'))])"
   ]
  },
  {
   "cell_type": "markdown",
   "metadata": {},
   "source": [
    "# MULTIPLE ITEMS"
   ]
  },
  {
   "cell_type": "markdown",
   "metadata": {},
   "source": [
    "## data"
   ]
  },
  {
   "cell_type": "code",
   "execution_count": 23,
   "metadata": {},
   "outputs": [],
   "source": [
    "n = 5000\n",
    "prices = np.random.uniform(50, 200, size=(n, 1)).astype(np.float32)\n",
    "xs = np.random.normal(size=(n,5)).astype(np.float32)"
   ]
  },
  {
   "cell_type": "code",
   "execution_count": 24,
   "metadata": {},
   "outputs": [],
   "source": [
    "# create input for item ids, we'll make 5\n",
    "ids = np.tile([0,1,2,3,4], n//5).reshape(-1,1)"
   ]
  },
  {
   "cell_type": "code",
   "execution_count": 25,
   "metadata": {},
   "outputs": [],
   "source": [
    "# create beta coefficients\n",
    "beta_0 = np.array([500],)\n",
    "\n",
    "beta_p = np.array([-1.4,\n",
    "                   -1.5,\n",
    "                   -1.6,\n",
    "                   -1.8,\n",
    "                   -2.0],)\n",
    "\n",
    "betas_x = np.random.normal(size=(5,1)).astype(np.float32)"
   ]
  },
  {
   "cell_type": "code",
   "execution_count": 26,
   "metadata": {},
   "outputs": [],
   "source": [
    "# noise\n",
    "noise = np.random.normal(size=(n,1)).astype(np.float32)"
   ]
  },
  {
   "cell_type": "code",
   "execution_count": 27,
   "metadata": {},
   "outputs": [],
   "source": [
    "# create demand to forecast\n",
    "y = beta_0 + beta_p[ids]*prices + np.dot(xs, betas_x) + noise\n",
    "y = np.maximum(0, y)"
   ]
  },
  {
   "cell_type": "code",
   "execution_count": 28,
   "metadata": {},
   "outputs": [],
   "source": [
    "# train/test ids\n",
    "trn = np.arange(int(n*.8))\n",
    "tst = np.arange(int(n*.8), n)"
   ]
  },
  {
   "cell_type": "code",
   "execution_count": 29,
   "metadata": {},
   "outputs": [
    {
     "data": {
      "text/plain": [
       "array([ 178.57,  166.67,  156.25,  138.89,  125.  ])"
      ]
     },
     "execution_count": 29,
     "metadata": {},
     "output_type": "execute_result"
    }
   ],
   "source": [
    "# derived optimal prices\n",
    "opt_prices = (-beta_0/(2*beta_p)).round(2)\n",
    "opt_prices"
   ]
  },
  {
   "cell_type": "markdown",
   "metadata": {},
   "source": [
    "## model"
   ]
  },
  {
   "cell_type": "code",
   "execution_count": 30,
   "metadata": {},
   "outputs": [],
   "source": [
    "# price and X inputs\n",
    "inp_p = Input((1,), name='inp_p')\n",
    "inp_x = Input((5,), name='inp_x')"
   ]
  },
  {
   "cell_type": "code",
   "execution_count": 31,
   "metadata": {},
   "outputs": [],
   "source": [
    "# use embeddings to learn the \"coefficient\" for each item\n",
    "inp_ids = Input((1,), name='inp_ids')\n",
    "ids_emb = Embedding(input_dim=5, output_dim=1, name='ids_emb')(inp_ids)\n",
    "ids_emb = Reshape((1,), name='ids_emb_re')(ids_emb)\n",
    "\n",
    "# multiply the embedding coefficient by price\n",
    "x = Multiply(name='mult_p_emb')([ids_emb, inp_p])"
   ]
  },
  {
   "cell_type": "code",
   "execution_count": 32,
   "metadata": {},
   "outputs": [],
   "source": [
    "# concat the inputs\n",
    "x = Concatenate(name='concat')([x, inp_x])\n",
    "\n",
    "# single dense hidden layer\n",
    "x = Dense(10, name='hid')(x)\n",
    "\n",
    "# output for predicting demand\n",
    "out = Dense(1, name='out')(x)\n",
    "\n",
    "# build and compile the model\n",
    "model = Model([inp_ids, inp_p, inp_x], out)\n",
    "model.compile(Adam(lr=.01), loss='mean_squared_error')"
   ]
  },
  {
   "cell_type": "code",
   "execution_count": 33,
   "metadata": {},
   "outputs": [],
   "source": [
    "# train\n",
    "hist = model.fit([ids[trn], prices[trn], xs[trn]], y[trn],\n",
    "                 validation_data=[[ids[tst], prices[tst], xs[tst]], y[tst]],\n",
    "                 verbose=0,\n",
    "                 epochs=50)"
   ]
  },
  {
   "cell_type": "markdown",
   "metadata": {},
   "source": [
    "## optimization"
   ]
  },
  {
   "cell_type": "code",
   "execution_count": 34,
   "metadata": {},
   "outputs": [],
   "source": [
    "# make model copy for price\n",
    "model_p = keras.models.clone_model(model)\n",
    "model_p.set_weights(model.get_weights())"
   ]
  },
  {
   "cell_type": "code",
   "execution_count": 35,
   "metadata": {},
   "outputs": [],
   "source": [
    "# \"freeze\" model\n",
    "for layer in model_p.layers:\n",
    "    layer.trainable = False"
   ]
  },
  {
   "cell_type": "code",
   "execution_count": 36,
   "metadata": {},
   "outputs": [
    {
     "data": {
      "text/plain": [
       "{'concat': <keras.layers.merge.Concatenate at 0x1218d0588>,\n",
       " 'hid': <keras.layers.core.Dense at 0x121999e48>,\n",
       " 'ids_emb': <keras.layers.embeddings.Embedding at 0x121577ef0>,\n",
       " 'ids_emb_re': <keras.layers.core.Reshape at 0x121577cc0>,\n",
       " 'inp_ids': <keras.engine.topology.InputLayer at 0x121699be0>,\n",
       " 'inp_p': <keras.engine.topology.InputLayer at 0x121699630>,\n",
       " 'inp_x': <keras.engine.topology.InputLayer at 0x121699470>,\n",
       " 'mult_p_emb': <keras.layers.merge.Multiply at 0x12182bb70>,\n",
       " 'out': <keras.layers.core.Dense at 0x1219edac8>}"
      ]
     },
     "execution_count": 36,
     "metadata": {},
     "output_type": "execute_result"
    }
   ],
   "source": [
    "# layers\n",
    "ls = {l.name:l for l in model_p.layers}\n",
    "ls"
   ]
  },
  {
   "cell_type": "code",
   "execution_count": 37,
   "metadata": {},
   "outputs": [],
   "source": [
    "# id price embeddings\n",
    "# lets us \"train\" a price for every id\n",
    "p = Embedding(input_dim=5, output_dim=1, name='ids_price')(ls['inp_ids'].output)\n",
    "p = Reshape((1,), name='ids_price_re')(p)\n",
    "\n",
    "# multiply price, concat, and send through desnse layers like before\n",
    "x = ls['mult_p_emb']([p, ls['ids_emb_re'].output, ls['inp_p'].output])\n",
    "x = ls['concat']([x, ls['inp_x'].output])\n",
    "x = ls['hid'](x)\n",
    "x = ls['out'](x)\n",
    "\n",
    "# revenue output\n",
    "out = Multiply(name='revenue_out')([p, x])"
   ]
  },
  {
   "cell_type": "code",
   "execution_count": 38,
   "metadata": {},
   "outputs": [],
   "source": [
    "# build/compile model\n",
    "model_p = Model([ls['inp_ids'].input, ls['inp_p'].input, ls['inp_x'].input], out)\n",
    "model_p.compile(Adam(lr=.1), loss=rev_loss)"
   ]
  },
  {
   "cell_type": "code",
   "execution_count": 39,
   "metadata": {},
   "outputs": [
    {
     "data": {
      "text/plain": [
       "array([ 178.57,  166.67,  156.25,  138.89,  125.  ])"
      ]
     },
     "execution_count": 39,
     "metadata": {},
     "output_type": "execute_result"
    }
   ],
   "source": [
    "# display optimal prices for reference\n",
    "opt_prices"
   ]
  },
  {
   "cell_type": "code",
   "execution_count": 40,
   "metadata": {},
   "outputs": [
    {
     "name": "stdout",
     "output_type": "stream",
     "text": [
      "epoch 5, price [ 67.01000214  66.05000305  65.19999695  64.58000183  63.43999863]\n",
      "epoch 10, price [ 117.98999786  115.51000214  112.68000031  108.44000244  103.01000214]\n",
      "epoch 15, price [ 152.3999939   147.27000427  141.41999817  131.6000061   120.13999939]\n",
      "epoch 20, price [ 170.41999817  162.21000671  153.61000061  139.16000366  124.05999756]\n",
      "epoch 25, price [ 176.41999817  166.3999939   156.41999817  140.32000732  124.41000366]\n",
      "epoch 30, price [ 177.41000366  166.91999817  156.67999268  140.36999512  124.41000366]\n",
      "epoch 35, price [ 177.46000671  166.94000244  156.69000244  140.38000488  124.41000366]\n",
      "epoch 40, price [ 177.47000122  166.94999695  156.69000244  140.36999512  124.41999817]\n",
      "epoch 45, price [ 177.46000671  166.94999695  156.69000244  140.38999939  124.41999817]\n",
      "epoch 50, price [ 177.46000671  166.96000671  156.66999817  140.36999512  124.45999908]\n"
     ]
    }
   ],
   "source": [
    "# train\n",
    "hist = model_p.fit([ids, np.ones((len(xs), 1)), xs], y,\n",
    "                   epochs=50,\n",
    "                   verbose=0,\n",
    "                   callbacks=[WtTracker(model_p.get_layer('ids_price'))])"
   ]
  },
  {
   "cell_type": "code",
   "execution_count": 41,
   "metadata": {},
   "outputs": [
    {
     "data": {
      "text/plain": [
       "array([-0.006,  0.002,  0.003,  0.011, -0.004])"
      ]
     },
     "execution_count": 41,
     "metadata": {},
     "output_type": "execute_result"
    }
   ],
   "source": [
    "# percents off from optimal prices\n",
    "(model_p.get_layer('ids_price').get_weights()[0].flatten() / opt_prices - 1).round(3)"
   ]
  },
  {
   "cell_type": "markdown",
   "metadata": {},
   "source": [
    "# SINGLE ITEM - QUADRATIC"
   ]
  },
  {
   "cell_type": "markdown",
   "metadata": {},
   "source": [
    "## data"
   ]
  },
  {
   "cell_type": "code",
   "execution_count": 42,
   "metadata": {},
   "outputs": [],
   "source": [
    "# number of obs\n",
    "n = 1000"
   ]
  },
  {
   "cell_type": "code",
   "execution_count": 43,
   "metadata": {},
   "outputs": [],
   "source": [
    "# random prices and other variables\n",
    "prices = np.random.uniform(20, 60, size=(n, 1)).astype(np.float32)\n",
    "xs = np.random.rand(n,5).astype(np.float32)"
   ]
  },
  {
   "cell_type": "code",
   "execution_count": 44,
   "metadata": {},
   "outputs": [],
   "source": [
    "# create beta coefficients\n",
    "beta_0 = np.array(([400],))\n",
    "beta_p = np.array(([1.0],))\n",
    "beta_p2 = np.array(([-0.1],))\n",
    "betas_x = np.random.normal(size=(5,1)).astype(np.float32)"
   ]
  },
  {
   "cell_type": "code",
   "execution_count": 45,
   "metadata": {},
   "outputs": [],
   "source": [
    "# noise\n",
    "noise = np.random.normal(size=(n,1)).astype(np.float32)"
   ]
  },
  {
   "cell_type": "code",
   "execution_count": 46,
   "metadata": {},
   "outputs": [],
   "source": [
    "# create demand to forecast\n",
    "y = beta_0 + beta_p*prices + beta_p2*(prices**2) + np.dot(xs, betas_x) + noise"
   ]
  },
  {
   "cell_type": "code",
   "execution_count": 47,
   "metadata": {},
   "outputs": [],
   "source": [
    "# plt.hist(y); plt.show()"
   ]
  },
  {
   "cell_type": "code",
   "execution_count": 48,
   "metadata": {},
   "outputs": [],
   "source": [
    "# train/test ids\n",
    "trn = np.arange(int(n*.8))\n",
    "tst = np.arange(int(n*.8), n)"
   ]
  },
  {
   "cell_type": "code",
   "execution_count": 49,
   "metadata": {},
   "outputs": [
    {
     "name": "stdout",
     "output_type": "stream",
     "text": [
      "Solutions are [[-33.33333333]] and [[ 40.]]\n"
     ]
    }
   ],
   "source": [
    "# optimal price\n",
    "# a*x**2 + b*x + c = 0\n",
    "c,b,a = beta_0, 2*beta_p, 3*beta_p2\n",
    "d = b**2-4*a*c # discriminant\n",
    "\n",
    "if d < 0:\n",
    "    print ('No solutions')\n",
    "elif d == 0:\n",
    "    x1 = -b / (2*a)\n",
    "    print ('The sole solution is',x1)\n",
    "else: # if d > 0\n",
    "    x1 = (-b + np.sqrt(d)) / (2*a)\n",
    "    x2 = (-b - np.sqrt(d)) / (2*a)\n",
    "    print ('Solutions are',x1,'and',x2)\n",
    "    \n",
    "opt_price = max(x1,x2)"
   ]
  },
  {
   "cell_type": "markdown",
   "metadata": {},
   "source": [
    "## model"
   ]
  },
  {
   "cell_type": "code",
   "execution_count": 50,
   "metadata": {},
   "outputs": [],
   "source": [
    "# price and X inputs\n",
    "inp_p = Input((1,), name='inp_p')\n",
    "inp_x = Input((5,), name='inp_x')"
   ]
  },
  {
   "cell_type": "code",
   "execution_count": 51,
   "metadata": {},
   "outputs": [],
   "source": [
    "# concat the inputs\n",
    "x = Concatenate(name='concat')([inp_p, inp_x])\n",
    "\n",
    "# single dense hidden layer\n",
    "x = Dense(20, name='hid', activation='relu')(x)\n",
    "\n",
    "# output for predicting demand\n",
    "out = Dense(1, name='out')(x)\n",
    "\n",
    "# build and compile the model\n",
    "model = Model([inp_p, inp_x], out)\n",
    "model.compile(Adam(lr=.01), loss='mean_squared_error')"
   ]
  },
  {
   "cell_type": "code",
   "execution_count": 52,
   "metadata": {},
   "outputs": [],
   "source": [
    "# train\n",
    "hist = model.fit([prices[trn], xs[trn]], y[trn],\n",
    "                 validation_data=[[prices[tst], xs[tst]], y[tst]],\n",
    "                 verbose=0,\n",
    "                 epochs=200)"
   ]
  },
  {
   "cell_type": "markdown",
   "metadata": {},
   "source": [
    "## optimization"
   ]
  },
  {
   "cell_type": "code",
   "execution_count": 53,
   "metadata": {},
   "outputs": [],
   "source": [
    "# make model copy\n",
    "model_p = keras.models.clone_model(model)\n",
    "model_p.set_weights(model.get_weights())"
   ]
  },
  {
   "cell_type": "code",
   "execution_count": 54,
   "metadata": {},
   "outputs": [],
   "source": [
    "# freeze model\n",
    "for layer in model_p.layers:\n",
    "    layer.trainable = False"
   ]
  },
  {
   "cell_type": "code",
   "execution_count": 55,
   "metadata": {},
   "outputs": [
    {
     "data": {
      "text/plain": [
       "{'concat': <keras.layers.merge.Concatenate at 0x121cf2780>,\n",
       " 'hid': <keras.layers.core.Dense at 0x121ce4cc0>,\n",
       " 'inp_p': <keras.engine.topology.InputLayer at 0x121cf2940>,\n",
       " 'inp_x': <keras.engine.topology.InputLayer at 0x121cf2400>,\n",
       " 'out': <keras.layers.core.Dense at 0x121fcceb8>}"
      ]
     },
     "execution_count": 55,
     "metadata": {},
     "output_type": "execute_result"
    }
   ],
   "source": [
    "# layers\n",
    "ls = {l.name:l for l in model_p.layers}\n",
    "ls"
   ]
  },
  {
   "cell_type": "code",
   "execution_count": 56,
   "metadata": {},
   "outputs": [],
   "source": [
    "# add layer for price input\n",
    "p = Dense(1, use_bias=False, name='price')(ls['inp_p'].output)\n",
    "\n",
    "# concat the inputs and send through hidden layers like before\n",
    "x = ls['concat']([p, ls['inp_x'].output])\n",
    "x = ls['hid'](x)\n",
    "x = ls['out'](x)\n",
    "\n",
    "# revenue output\n",
    "out = Multiply(name='revenue_out')([p, x])"
   ]
  },
  {
   "cell_type": "code",
   "execution_count": 57,
   "metadata": {},
   "outputs": [],
   "source": [
    "# build/compile model\n",
    "model_p = Model([ls['inp_p'].input, ls['inp_x'].input], out)\n",
    "model_p.compile(Adam(lr=.1), loss=rev_loss)"
   ]
  },
  {
   "cell_type": "code",
   "execution_count": 58,
   "metadata": {},
   "outputs": [
    {
     "data": {
      "text/plain": [
       "array([[ 40.]])"
      ]
     },
     "execution_count": 58,
     "metadata": {},
     "output_type": "execute_result"
    }
   ],
   "source": [
    "# display optimal price\n",
    "opt_price"
   ]
  },
  {
   "cell_type": "code",
   "execution_count": 59,
   "metadata": {},
   "outputs": [
    {
     "name": "stdout",
     "output_type": "stream",
     "text": [
      "epoch 5, price [ 14.06000042]\n",
      "epoch 10, price [ 24.95000076]\n",
      "epoch 15, price [ 32.08000183]\n",
      "epoch 20, price [ 36.04999924]\n",
      "epoch 25, price [ 37.88999939]\n",
      "epoch 30, price [ 38.59999847]\n",
      "epoch 35, price [ 38.83000183]\n",
      "epoch 40, price [ 38.88999939]\n",
      "epoch 45, price [ 38.90000153]\n",
      "epoch 50, price [ 38.90000153]\n",
      "epoch 55, price [ 38.90000153]\n",
      "epoch 60, price [ 38.90000153]\n",
      "epoch 65, price [ 38.90000153]\n",
      "epoch 70, price [ 38.90000153]\n",
      "epoch 75, price [ 38.90000153]\n",
      "epoch 80, price [ 38.90000153]\n",
      "epoch 85, price [ 38.90000153]\n",
      "epoch 90, price [ 38.90000153]\n",
      "epoch 95, price [ 38.90000153]\n",
      "epoch 100, price [ 38.90000153]\n"
     ]
    }
   ],
   "source": [
    "# train\n",
    "hist = model_p.fit([np.ones((len(xs), 1)), xs], y,\n",
    "                   epochs=100,\n",
    "                   verbose=0,\n",
    "                   callbacks=[WtTracker(model_p.get_layer('price'))])"
   ]
  }
 ],
 "metadata": {
  "kernelspec": {
   "display_name": "pdm",
   "language": "python",
   "name": "pdm"
  },
  "language_info": {
   "codemirror_mode": {
    "name": "ipython",
    "version": 3
   },
   "file_extension": ".py",
   "mimetype": "text/x-python",
   "name": "python",
   "nbconvert_exporter": "python",
   "pygments_lexer": "ipython3",
   "version": "3.6.4"
  }
 },
 "nbformat": 4,
 "nbformat_minor": 2
}
