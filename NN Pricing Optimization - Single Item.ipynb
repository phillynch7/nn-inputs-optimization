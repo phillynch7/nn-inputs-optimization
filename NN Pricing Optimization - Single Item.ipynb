{
 "cells": [
  {
   "cell_type": "code",
   "execution_count": 1,
   "metadata": {},
   "outputs": [],
   "source": [
    "import numpy as np\n",
    "import matplotlib.pylab as plt\n",
    "%matplotlib inline"
   ]
  },
  {
   "cell_type": "code",
   "execution_count": 3,
   "metadata": {},
   "outputs": [],
   "source": [
    "import keras\n",
    "import keras.backend as K\n",
    "from keras.models import Sequential, Model\n",
    "from keras.layers import *\n",
    "from keras.optimizers import Adam"
   ]
  },
  {
   "cell_type": "code",
   "execution_count": 4,
   "metadata": {},
   "outputs": [],
   "source": [
    "np.set_printoptions(suppress=True)"
   ]
  },
  {
   "cell_type": "markdown",
   "metadata": {},
   "source": [
    "# SINGLE ITEM"
   ]
  },
  {
   "cell_type": "markdown",
   "metadata": {},
   "source": [
    "## Generate data"
   ]
  },
  {
   "cell_type": "code",
   "execution_count": 5,
   "metadata": {},
   "outputs": [],
   "source": [
    "# number of obs\n",
    "n = 1000"
   ]
  },
  {
   "cell_type": "code",
   "execution_count": 6,
   "metadata": {},
   "outputs": [],
   "source": [
    "# random prices and other variables\n",
    "prices = np.random.uniform(20, 200, size=(n, 1)).astype(np.float32)\n",
    "xs = np.random.rand(n,5).astype(np.float32)"
   ]
  },
  {
   "cell_type": "code",
   "execution_count": 7,
   "metadata": {},
   "outputs": [],
   "source": [
    "# create beta coefficients\n",
    "beta_0 = np.array(([300],))\n",
    "beta_p = np.array(([-1.5],))\n",
    "betas_x = np.random.normal(size=(5,1)).astype(np.float32)"
   ]
  },
  {
   "cell_type": "code",
   "execution_count": 8,
   "metadata": {},
   "outputs": [
    {
     "data": {
      "text/plain": [
       "array([[100.]])"
      ]
     },
     "execution_count": 8,
     "metadata": {},
     "output_type": "execute_result"
    }
   ],
   "source": [
    "# optimal price\n",
    "opt_price = -beta_0/(2*beta_p)\n",
    "opt_price"
   ]
  },
  {
   "cell_type": "code",
   "execution_count": 9,
   "metadata": {},
   "outputs": [],
   "source": [
    "# noise\n",
    "noise = np.random.normal(size=(n,1)).astype(np.float32)"
   ]
  },
  {
   "cell_type": "code",
   "execution_count": 10,
   "metadata": {},
   "outputs": [],
   "source": [
    "# create demand to forecast\n",
    "y = beta_0 + beta_p*prices + np.dot(xs, betas_x) + noise\n",
    "y = np.maximum(0, y)"
   ]
  },
  {
   "cell_type": "code",
   "execution_count": 11,
   "metadata": {},
   "outputs": [],
   "source": [
    "# plt.hist(y)"
   ]
  },
  {
   "cell_type": "code",
   "execution_count": 12,
   "metadata": {},
   "outputs": [],
   "source": [
    "# train/test ids\n",
    "trn = np.arange(int(n*.8))\n",
    "tst = np.arange(int(n*.8), n)"
   ]
  },
  {
   "cell_type": "markdown",
   "metadata": {},
   "source": [
    "## Model demand"
   ]
  },
  {
   "cell_type": "code",
   "execution_count": 13,
   "metadata": {},
   "outputs": [],
   "source": [
    "# price and X inputs\n",
    "inp_p = Input((1,), name='inp_p')\n",
    "inp_x = Input((5,), name='inp_x')"
   ]
  },
  {
   "cell_type": "code",
   "execution_count": 14,
   "metadata": {},
   "outputs": [],
   "source": [
    "# concat the inputs\n",
    "x = Concatenate(name='concat')([inp_p, inp_x])\n",
    "\n",
    "# single dense hidden layer\n",
    "x = Dense(3, name='hid')(x)\n",
    "\n",
    "# output for predicting demand\n",
    "out = Dense(1, name='out')(x)\n",
    "\n",
    "# build and compile the model\n",
    "model = Model([inp_p, inp_x], out)\n",
    "model.compile(Adam(lr=.01), loss='mean_squared_error')"
   ]
  },
  {
   "cell_type": "code",
   "execution_count": 15,
   "metadata": {
    "scrolled": true
   },
   "outputs": [],
   "source": [
    "# train\n",
    "hist = model.fit([prices[trn], xs[trn]], y[trn],\n",
    "                 validation_data=[[prices[tst], xs[tst]], y[tst]],\n",
    "                 verbose=0,\n",
    "                 epochs=200)"
   ]
  },
  {
   "cell_type": "markdown",
   "metadata": {},
   "source": [
    "## Price optimization"
   ]
  },
  {
   "cell_type": "code",
   "execution_count": 16,
   "metadata": {},
   "outputs": [],
   "source": [
    "# make model copy for price\n",
    "model_p = keras.models.clone_model(model)\n",
    "model_p.set_weights(model.get_weights())"
   ]
  },
  {
   "cell_type": "code",
   "execution_count": 17,
   "metadata": {},
   "outputs": [],
   "source": [
    "# \"freeze\" the model\n",
    "# we want our model for demand to stay the same\n",
    "# while the price input is optimized\n",
    "for layer in model_p.layers:\n",
    "    layer.trainable = False"
   ]
  },
  {
   "cell_type": "code",
   "execution_count": 18,
   "metadata": {},
   "outputs": [
    {
     "data": {
      "text/plain": [
       "{'concat': <keras.layers.merge.Concatenate at 0x10d6209b0>,\n",
       " 'hid': <keras.layers.core.Dense at 0x10d620438>,\n",
       " 'inp_p': <keras.engine.topology.InputLayer at 0x111a4b908>,\n",
       " 'inp_x': <keras.engine.topology.InputLayer at 0x111a4b6a0>,\n",
       " 'out': <keras.layers.core.Dense at 0x120cb8780>}"
      ]
     },
     "execution_count": 18,
     "metadata": {},
     "output_type": "execute_result"
    }
   ],
   "source": [
    "# dict of layers\n",
    "ls = {l.name:l for l in model_p.layers}\n",
    "ls"
   ]
  },
  {
   "cell_type": "code",
   "execution_count": 19,
   "metadata": {
    "scrolled": true
   },
   "outputs": [],
   "source": [
    "# add a single unit dense inbetween price input and hidden layer\n",
    "# this will create a single trainable weight\n",
    "# we will feed the input all 1's so it can learn the optimal price\n",
    "p = Dense(1, use_bias=False, name='price')(ls['inp_p'].output)"
   ]
  },
  {
   "cell_type": "code",
   "execution_count": 20,
   "metadata": {},
   "outputs": [],
   "source": [
    "# concat the inputs and send through hidden layers like before\n",
    "x = ls['concat']([p, ls['inp_x'].output])\n",
    "x = ls['hid'](x)\n",
    "x = ls['out'](x)"
   ]
  },
  {
   "cell_type": "code",
   "execution_count": 21,
   "metadata": {},
   "outputs": [],
   "source": [
    "# our output of the last model was an estimate for demand\n",
    "# so now we multiply that by the trained price to get revenue\n",
    "out = Multiply(name='revenue_out')([p, x])"
   ]
  },
  {
   "cell_type": "code",
   "execution_count": 22,
   "metadata": {},
   "outputs": [],
   "source": [
    "# build model\n",
    "model_p = Model([ls['inp_p'].input, ls['inp_x'].input], out)"
   ]
  },
  {
   "cell_type": "code",
   "execution_count": 23,
   "metadata": {},
   "outputs": [],
   "source": [
    "# we want to maximize revenue, but keras minizises loss\n",
    "# so we'll just make our loss the negative revenue\n",
    "def rev_loss(y_true, y_pred):\n",
    "    return -K.mean(y_pred)"
   ]
  },
  {
   "cell_type": "code",
   "execution_count": 24,
   "metadata": {},
   "outputs": [],
   "source": [
    "# compile model\n",
    "model_p.compile(Adam(lr=.1), loss=rev_loss)"
   ]
  },
  {
   "cell_type": "code",
   "execution_count": 25,
   "metadata": {},
   "outputs": [],
   "source": [
    "# callback to track layer weights\n",
    "class WtTracker(keras.callbacks.Callback):\n",
    "    def __init__(self, layer, display=10):\n",
    "        self.seen = 0\n",
    "        self.layer = layer\n",
    "        self.display = display\n",
    "\n",
    "    def on_epoch_end(self,batch,logs={}):\n",
    "        self.seen += 1\n",
    "        if self.seen % self.display == 0:\n",
    "            wts = self.layer.get_weights()[0].flatten().round(2)\n",
    "            print(f'epoch {self.seen}, price {wts}')"
   ]
  },
  {
   "cell_type": "code",
   "execution_count": 26,
   "metadata": {
    "scrolled": true
   },
   "outputs": [
    {
     "name": "stdout",
     "output_type": "stream",
     "text": [
      "epoch 10, price [29.29]\n",
      "epoch 20, price [53.55]\n",
      "epoch 30, price [72.16]\n",
      "epoch 40, price [85.19]\n",
      "epoch 50, price [93.28]\n",
      "epoch 60, price [97.59]\n",
      "epoch 70, price [99.5]\n",
      "epoch 80, price [100.18]\n",
      "epoch 90, price [100.38]\n",
      "epoch 100, price [100.42]\n",
      "epoch 110, price [100.42]\n",
      "epoch 120, price [100.42]\n",
      "epoch 130, price [100.42]\n",
      "epoch 140, price [100.42]\n",
      "epoch 150, price [100.42]\n",
      "epoch 160, price [100.42]\n",
      "epoch 170, price [100.42]\n",
      "epoch 180, price [100.42]\n",
      "epoch 190, price [100.43]\n",
      "epoch 200, price [100.43]\n"
     ]
    }
   ],
   "source": [
    "# train\n",
    "hist = model_p.fit([np.ones((len(xs), 1)), xs], y,\n",
    "                   epochs=200,\n",
    "                   verbose=0,\n",
    "                   callbacks=[WtTracker(model_p.get_layer('price'))])"
   ]
  }
 ],
 "metadata": {
  "kernelspec": {
   "display_name": "Python [conda env:pdfcst]",
   "language": "python",
   "name": "conda-env-pdfcst-py"
  },
  "language_info": {
   "codemirror_mode": {
    "name": "ipython",
    "version": 3
   },
   "file_extension": ".py",
   "mimetype": "text/x-python",
   "name": "python",
   "nbconvert_exporter": "python",
   "pygments_lexer": "ipython3",
   "version": "3.6.4"
  }
 },
 "nbformat": 4,
 "nbformat_minor": 2
}
