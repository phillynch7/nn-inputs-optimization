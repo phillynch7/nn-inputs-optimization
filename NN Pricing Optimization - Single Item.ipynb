{
 "cells": [
  {
   "cell_type": "code",
   "execution_count": 1,
   "metadata": {},
   "outputs": [],
   "source": [
    "import numpy as np\n",
    "import matplotlib.pylab as plt\n",
    "%matplotlib inline"
   ]
  },
  {
   "cell_type": "code",
   "execution_count": 3,
   "metadata": {},
   "outputs": [],
   "source": [
    "import keras\n",
    "import keras.backend as K\n",
    "from keras.models import Sequential, Model\n",
    "from keras.layers import *\n",
    "from keras.optimizers import Adam"
   ]
  },
  {
   "cell_type": "code",
   "execution_count": 4,
   "metadata": {},
   "outputs": [],
   "source": [
    "np.set_printoptions(suppress=True)"
   ]
  },
  {
   "cell_type": "markdown",
   "metadata": {},
   "source": [
    "# SINGLE ITEM"
   ]
  },
  {
   "cell_type": "markdown",
   "metadata": {},
   "source": [
    "## Generate data"
   ]
  },
  {
   "cell_type": "code",
   "execution_count": 5,
   "metadata": {},
   "outputs": [],
   "source": [
    "# number of obs\n",
    "n = 1000"
   ]
  },
  {
   "cell_type": "code",
   "execution_count": 6,
   "metadata": {},
   "outputs": [],
   "source": [
    "# random prices and other variables\n",
    "prices = np.random.uniform(20, 200, size=(n, 1)).astype(np.float32)\n",
    "xs = np.random.rand(n,5).astype(np.float32)"
   ]
  },
  {
   "cell_type": "code",
   "execution_count": 7,
   "metadata": {},
   "outputs": [],
   "source": [
    "# create beta coefficients\n",
    "beta_0 = np.array(([300],))\n",
    "beta_p = np.array(([-1.5],))\n",
    "betas_x = np.random.normal(size=(5,1)).astype(np.float32)"
   ]
  },
  {
   "cell_type": "code",
   "execution_count": 8,
   "metadata": {},
   "outputs": [
    {
     "data": {
      "text/plain": [
       "array([[100.]])"
      ]
     },
     "execution_count": 8,
     "metadata": {},
     "output_type": "execute_result"
    }
   ],
   "source": [
    "# optimal price\n",
    "opt_price = -beta_0/(2*beta_p)\n",
    "opt_price"
   ]
  },
  {
   "cell_type": "code",
   "execution_count": 9,
   "metadata": {},
   "outputs": [],
   "source": [
    "# noise\n",
    "noise = np.random.normal(size=(n,1)).astype(np.float32)"
   ]
  },
  {
   "cell_type": "code",
   "execution_count": 10,
   "metadata": {},
   "outputs": [],
   "source": [
    "# create demand to forecast\n",
    "y = beta_0 + beta_p*prices + np.dot(xs, betas_x) + noise\n",
    "y = np.maximum(0, y)"
   ]
  },
  {
   "cell_type": "code",
   "execution_count": 11,
   "metadata": {},
   "outputs": [],
   "source": [
    "# plt.hist(y)"
   ]
  },
  {
   "cell_type": "code",
   "execution_count": 12,
   "metadata": {},
   "outputs": [],
   "source": [
    "# train/test ids\n",
    "trn = np.arange(int(n*.8))\n",
    "tst = np.arange(int(n*.8), n)"
   ]
  },
  {
   "cell_type": "markdown",
   "metadata": {},
   "source": [
    "## Model demand"
   ]
  },
  {
   "cell_type": "code",
   "execution_count": 13,
   "metadata": {},
   "outputs": [],
   "source": [
    "# price and X inputs\n",
    "inp_p = Input((1,), name='inp_p')\n",
    "inp_x = Input((5,), name='inp_x')"
   ]
  },
  {
   "cell_type": "code",
   "execution_count": 14,
   "metadata": {},
   "outputs": [],
   "source": [
    "# concat the inputs\n",
    "x = Concatenate(name='concat')([inp_p, inp_x])\n",
    "\n",
    "# single dense hidden layer\n",
    "x = Dense(3, name='hid')(x)\n",
    "\n",
    "# output for predicting demand\n",
    "out = Dense(1, name='out')(x)\n",
    "\n",
    "# build and compile the model\n",
    "model = Model([inp_p, inp_x], out)\n",
    "model.compile(Adam(lr=.01), loss='mean_squared_error')"
   ]
  },
  {
   "cell_type": "code",
   "execution_count": 15,
   "metadata": {
    "scrolled": true
   },
   "outputs": [
    {
     "name": "stdout",
     "output_type": "stream",
     "text": [
      "Train on 800 samples, validate on 200 samples\n",
      "Epoch 1/200\n",
      "800/800 [==============================] - 0s 120us/step - loss: 17755.0689 - val_loss: 17705.4463\n",
      "Epoch 2/200\n",
      "800/800 [==============================] - 0s 67us/step - loss: 15616.2720 - val_loss: 17573.2849\n",
      "Epoch 3/200\n",
      "800/800 [==============================] - 0s 67us/step - loss: 15423.6966 - val_loss: 17385.5369\n",
      "Epoch 4/200\n",
      "800/800 [==============================] - 0s 60us/step - loss: 15266.8336 - val_loss: 17196.5168\n",
      "Epoch 5/200\n",
      "800/800 [==============================] - 0s 44us/step - loss: 15091.8268 - val_loss: 16993.8998\n",
      "Epoch 6/200\n",
      "800/800 [==============================] - 0s 52us/step - loss: 14894.8808 - val_loss: 16729.5309\n",
      "Epoch 7/200\n",
      "800/800 [==============================] - 0s 67us/step - loss: 14633.0711 - val_loss: 16424.4441\n",
      "Epoch 8/200\n",
      "800/800 [==============================] - 0s 50us/step - loss: 14333.3721 - val_loss: 16043.8994\n",
      "Epoch 9/200\n",
      "800/800 [==============================] - 0s 70us/step - loss: 13951.3983 - val_loss: 15581.1429\n",
      "Epoch 10/200\n",
      "800/800 [==============================] - 0s 66us/step - loss: 13467.7232 - val_loss: 14925.2484\n",
      "Epoch 11/200\n",
      "800/800 [==============================] - 0s 63us/step - loss: 12892.0935 - val_loss: 14246.5012\n",
      "Epoch 12/200\n",
      "800/800 [==============================] - 0s 45us/step - loss: 12123.9566 - val_loss: 13283.8551\n",
      "Epoch 13/200\n",
      "800/800 [==============================] - 0s 53us/step - loss: 11251.6963 - val_loss: 12215.7601\n",
      "Epoch 14/200\n",
      "800/800 [==============================] - 0s 51us/step - loss: 10262.4938 - val_loss: 11027.9693\n",
      "Epoch 15/200\n",
      "800/800 [==============================] - 0s 45us/step - loss: 9210.1712 - val_loss: 9845.6488\n",
      "Epoch 16/200\n",
      "800/800 [==============================] - 0s 60us/step - loss: 8227.3436 - val_loss: 8650.4678\n",
      "Epoch 17/200\n",
      "800/800 [==============================] - 0s 55us/step - loss: 7114.2907 - val_loss: 7411.2173\n",
      "Epoch 18/200\n",
      "800/800 [==============================] - 0s 62us/step - loss: 6128.3309 - val_loss: 6342.6901\n",
      "Epoch 19/200\n",
      "800/800 [==============================] - 0s 63us/step - loss: 5291.5759 - val_loss: 5430.3126\n",
      "Epoch 20/200\n",
      "800/800 [==============================] - 0s 69us/step - loss: 4505.6656 - val_loss: 4784.4313\n",
      "Epoch 21/200\n",
      "800/800 [==============================] - 0s 64us/step - loss: 3941.9496 - val_loss: 4012.9971\n",
      "Epoch 22/200\n",
      "800/800 [==============================] - 0s 68us/step - loss: 3438.0322 - val_loss: 3361.4513\n",
      "Epoch 23/200\n",
      "800/800 [==============================] - 0s 62us/step - loss: 3062.3481 - val_loss: 3032.6756\n",
      "Epoch 24/200\n",
      "800/800 [==============================] - 0s 61us/step - loss: 2827.6869 - val_loss: 2787.0402\n",
      "Epoch 25/200\n",
      "800/800 [==============================] - 0s 52us/step - loss: 2685.9522 - val_loss: 2468.5685\n",
      "Epoch 26/200\n",
      "800/800 [==============================] - 0s 47us/step - loss: 2509.9080 - val_loss: 2359.3907\n",
      "Epoch 27/200\n",
      "800/800 [==============================] - 0s 59us/step - loss: 2441.3490 - val_loss: 2413.1409\n",
      "Epoch 28/200\n",
      "800/800 [==============================] - 0s 56us/step - loss: 2396.5297 - val_loss: 2336.9058\n",
      "Epoch 29/200\n",
      "800/800 [==============================] - 0s 62us/step - loss: 2344.6058 - val_loss: 2042.6857\n",
      "Epoch 30/200\n",
      "800/800 [==============================] - 0s 64us/step - loss: 2277.4953 - val_loss: 1953.5599\n",
      "Epoch 31/200\n",
      "800/800 [==============================] - 0s 65us/step - loss: 2245.3093 - val_loss: 1900.2949\n",
      "Epoch 32/200\n",
      "800/800 [==============================] - 0s 72us/step - loss: 2204.7688 - val_loss: 1928.3351\n",
      "Epoch 33/200\n",
      "800/800 [==============================] - 0s 73us/step - loss: 2205.5257 - val_loss: 1822.7136\n",
      "Epoch 34/200\n",
      "800/800 [==============================] - 0s 65us/step - loss: 2144.3748 - val_loss: 1787.4677\n",
      "Epoch 35/200\n",
      "800/800 [==============================] - 0s 55us/step - loss: 2111.9183 - val_loss: 1798.6463\n",
      "Epoch 36/200\n",
      "800/800 [==============================] - 0s 47us/step - loss: 2075.4842 - val_loss: 1899.2739\n",
      "Epoch 37/200\n",
      "800/800 [==============================] - 0s 46us/step - loss: 2029.4415 - val_loss: 1695.6044\n",
      "Epoch 38/200\n",
      "800/800 [==============================] - 0s 50us/step - loss: 2008.8779 - val_loss: 1690.3086\n",
      "Epoch 39/200\n",
      "800/800 [==============================] - 0s 56us/step - loss: 1975.2517 - val_loss: 1999.5541\n",
      "Epoch 40/200\n",
      "800/800 [==============================] - 0s 63us/step - loss: 1962.6522 - val_loss: 1805.7885\n",
      "Epoch 41/200\n",
      "800/800 [==============================] - 0s 62us/step - loss: 1931.1301 - val_loss: 1611.9307\n",
      "Epoch 42/200\n",
      "800/800 [==============================] - 0s 64us/step - loss: 1887.4121 - val_loss: 1560.8246\n",
      "Epoch 43/200\n",
      "800/800 [==============================] - 0s 53us/step - loss: 1843.6640 - val_loss: 1553.6398\n",
      "Epoch 44/200\n",
      "800/800 [==============================] - 0s 57us/step - loss: 1810.0729 - val_loss: 1512.7051\n",
      "Epoch 45/200\n",
      "800/800 [==============================] - 0s 52us/step - loss: 1785.4997 - val_loss: 1672.8048\n",
      "Epoch 46/200\n",
      "800/800 [==============================] - 0s 54us/step - loss: 1739.4955 - val_loss: 1484.0324\n",
      "Epoch 47/200\n",
      "800/800 [==============================] - 0s 58us/step - loss: 1728.2503 - val_loss: 1420.2998\n",
      "Epoch 48/200\n",
      "800/800 [==============================] - 0s 55us/step - loss: 1696.2754 - val_loss: 1431.5795\n",
      "Epoch 49/200\n",
      "800/800 [==============================] - 0s 55us/step - loss: 1653.4220 - val_loss: 1404.3202\n",
      "Epoch 50/200\n",
      "800/800 [==============================] - 0s 63us/step - loss: 1653.1226 - val_loss: 1332.2609\n",
      "Epoch 51/200\n",
      "800/800 [==============================] - 0s 51us/step - loss: 1598.6586 - val_loss: 1310.3218\n",
      "Epoch 52/200\n",
      "800/800 [==============================] - 0s 45us/step - loss: 1653.0118 - val_loss: 1281.3765\n",
      "Epoch 53/200\n",
      "800/800 [==============================] - 0s 50us/step - loss: 1536.1665 - val_loss: 1268.0719\n",
      "Epoch 54/200\n",
      "800/800 [==============================] - 0s 55us/step - loss: 1523.3028 - val_loss: 1335.3720\n",
      "Epoch 55/200\n",
      "800/800 [==============================] - 0s 63us/step - loss: 1476.0927 - val_loss: 1213.0200\n",
      "Epoch 56/200\n",
      "800/800 [==============================] - 0s 63us/step - loss: 1461.6346 - val_loss: 1376.5708\n",
      "Epoch 57/200\n",
      "800/800 [==============================] - 0s 60us/step - loss: 1388.3034 - val_loss: 1340.2485\n",
      "Epoch 58/200\n",
      "800/800 [==============================] - 0s 65us/step - loss: 1434.2295 - val_loss: 1124.4408\n",
      "Epoch 59/200\n",
      "800/800 [==============================] - 0s 62us/step - loss: 1367.6301 - val_loss: 1145.3358\n",
      "Epoch 60/200\n",
      "800/800 [==============================] - 0s 62us/step - loss: 1328.3454 - val_loss: 1169.9255\n",
      "Epoch 61/200\n",
      "800/800 [==============================] - 0s 66us/step - loss: 1355.3178 - val_loss: 1255.6777\n",
      "Epoch 62/200\n",
      "800/800 [==============================] - 0s 64us/step - loss: 1245.1657 - val_loss: 1035.8001\n",
      "Epoch 63/200\n",
      "800/800 [==============================] - 0s 65us/step - loss: 1211.8901 - val_loss: 985.4396\n",
      "Epoch 64/200\n",
      "800/800 [==============================] - 0s 61us/step - loss: 1204.4449 - val_loss: 1005.4493\n",
      "Epoch 65/200\n",
      "800/800 [==============================] - 0s 59us/step - loss: 1223.3088 - val_loss: 1299.5069\n",
      "Epoch 66/200\n",
      "800/800 [==============================] - 0s 62us/step - loss: 1207.4069 - val_loss: 1007.1673\n",
      "Epoch 67/200\n",
      "800/800 [==============================] - 0s 64us/step - loss: 1107.4331 - val_loss: 890.4432\n",
      "Epoch 68/200\n",
      "800/800 [==============================] - 0s 67us/step - loss: 1069.3825 - val_loss: 876.9882\n",
      "Epoch 69/200\n",
      "800/800 [==============================] - 0s 62us/step - loss: 1057.2365 - val_loss: 1047.0151\n",
      "Epoch 70/200\n",
      "800/800 [==============================] - 0s 65us/step - loss: 1028.1463 - val_loss: 879.4126\n",
      "Epoch 71/200\n",
      "800/800 [==============================] - 0s 67us/step - loss: 987.1210 - val_loss: 818.3753\n",
      "Epoch 72/200\n",
      "800/800 [==============================] - 0s 61us/step - loss: 946.1378 - val_loss: 760.8800\n",
      "Epoch 73/200\n",
      "800/800 [==============================] - 0s 67us/step - loss: 907.9056 - val_loss: 743.6156\n",
      "Epoch 74/200\n",
      "800/800 [==============================] - 0s 62us/step - loss: 913.1629 - val_loss: 713.5505\n",
      "Epoch 75/200\n"
     ]
    },
    {
     "name": "stdout",
     "output_type": "stream",
     "text": [
      "800/800 [==============================] - 0s 62us/step - loss: 868.5398 - val_loss: 688.3082\n",
      "Epoch 76/200\n",
      "800/800 [==============================] - 0s 67us/step - loss: 857.2435 - val_loss: 792.1251\n",
      "Epoch 77/200\n",
      "800/800 [==============================] - 0s 64us/step - loss: 804.5646 - val_loss: 647.8252\n",
      "Epoch 78/200\n",
      "800/800 [==============================] - 0s 63us/step - loss: 777.0364 - val_loss: 632.2485\n",
      "Epoch 79/200\n",
      "800/800 [==============================] - 0s 60us/step - loss: 745.4908 - val_loss: 592.4602\n",
      "Epoch 80/200\n",
      "800/800 [==============================] - 0s 64us/step - loss: 713.6809 - val_loss: 647.8639\n",
      "Epoch 81/200\n",
      "800/800 [==============================] - 0s 62us/step - loss: 700.7122 - val_loss: 570.5094\n",
      "Epoch 82/200\n",
      "800/800 [==============================] - 0s 62us/step - loss: 676.0904 - val_loss: 535.6251\n",
      "Epoch 83/200\n",
      "800/800 [==============================] - 0s 61us/step - loss: 640.5685 - val_loss: 574.6256\n",
      "Epoch 84/200\n",
      "800/800 [==============================] - 0s 66us/step - loss: 619.8642 - val_loss: 480.2928\n",
      "Epoch 85/200\n",
      "800/800 [==============================] - 0s 65us/step - loss: 592.5595 - val_loss: 489.7691\n",
      "Epoch 86/200\n",
      "800/800 [==============================] - 0s 66us/step - loss: 553.7251 - val_loss: 443.0004\n",
      "Epoch 87/200\n",
      "800/800 [==============================] - 0s 63us/step - loss: 544.7938 - val_loss: 571.4271\n",
      "Epoch 88/200\n",
      "800/800 [==============================] - 0s 66us/step - loss: 525.3450 - val_loss: 461.7480\n",
      "Epoch 89/200\n",
      "800/800 [==============================] - 0s 66us/step - loss: 480.6357 - val_loss: 393.4272\n",
      "Epoch 90/200\n",
      "800/800 [==============================] - 0s 64us/step - loss: 466.5596 - val_loss: 424.8066\n",
      "Epoch 91/200\n",
      "800/800 [==============================] - 0s 64us/step - loss: 432.6155 - val_loss: 386.5843\n",
      "Epoch 92/200\n",
      "800/800 [==============================] - 0s 65us/step - loss: 415.0968 - val_loss: 330.6344\n",
      "Epoch 93/200\n",
      "800/800 [==============================] - 0s 68us/step - loss: 395.1434 - val_loss: 337.4657\n",
      "Epoch 94/200\n",
      "800/800 [==============================] - 0s 70us/step - loss: 374.5494 - val_loss: 396.8456\n",
      "Epoch 95/200\n",
      "800/800 [==============================] - 0s 61us/step - loss: 357.3351 - val_loss: 273.5984\n",
      "Epoch 96/200\n",
      "800/800 [==============================] - 0s 62us/step - loss: 329.4452 - val_loss: 275.2324\n",
      "Epoch 97/200\n",
      "800/800 [==============================] - 0s 67us/step - loss: 327.6513 - val_loss: 258.6732\n",
      "Epoch 98/200\n",
      "800/800 [==============================] - 0s 67us/step - loss: 312.6220 - val_loss: 306.5390\n",
      "Epoch 99/200\n",
      "800/800 [==============================] - 0s 66us/step - loss: 292.0051 - val_loss: 222.0908\n",
      "Epoch 100/200\n",
      "800/800 [==============================] - 0s 62us/step - loss: 271.3364 - val_loss: 200.6661\n",
      "Epoch 101/200\n",
      "800/800 [==============================] - 0s 65us/step - loss: 242.0122 - val_loss: 187.0461\n",
      "Epoch 102/200\n",
      "800/800 [==============================] - 0s 67us/step - loss: 227.3870 - val_loss: 183.7412\n",
      "Epoch 103/200\n",
      "800/800 [==============================] - 0s 66us/step - loss: 222.4227 - val_loss: 184.6282\n",
      "Epoch 104/200\n",
      "800/800 [==============================] - 0s 60us/step - loss: 206.7672 - val_loss: 186.4988\n",
      "Epoch 105/200\n",
      "800/800 [==============================] - 0s 45us/step - loss: 189.7649 - val_loss: 140.0507\n",
      "Epoch 106/200\n",
      "800/800 [==============================] - 0s 61us/step - loss: 174.4280 - val_loss: 194.0302\n",
      "Epoch 107/200\n",
      "800/800 [==============================] - 0s 63us/step - loss: 156.6673 - val_loss: 164.3440\n",
      "Epoch 108/200\n",
      "800/800 [==============================] - 0s 65us/step - loss: 147.9590 - val_loss: 110.5451\n",
      "Epoch 109/200\n",
      "800/800 [==============================] - 0s 61us/step - loss: 139.7406 - val_loss: 145.3851\n",
      "Epoch 110/200\n",
      "800/800 [==============================] - 0s 64us/step - loss: 135.0760 - val_loss: 93.9065\n",
      "Epoch 111/200\n",
      "800/800 [==============================] - 0s 62us/step - loss: 115.1607 - val_loss: 103.3230\n",
      "Epoch 112/200\n",
      "800/800 [==============================] - 0s 59us/step - loss: 102.8200 - val_loss: 81.5256\n",
      "Epoch 113/200\n",
      "800/800 [==============================] - 0s 62us/step - loss: 91.9496 - val_loss: 73.9776\n",
      "Epoch 114/200\n",
      "800/800 [==============================] - 0s 62us/step - loss: 84.6218 - val_loss: 68.3189\n",
      "Epoch 115/200\n",
      "800/800 [==============================] - 0s 66us/step - loss: 88.1531 - val_loss: 60.9544\n",
      "Epoch 116/200\n",
      "800/800 [==============================] - 0s 78us/step - loss: 74.2370 - val_loss: 57.7705\n",
      "Epoch 117/200\n",
      "800/800 [==============================] - 0s 62us/step - loss: 63.9320 - val_loss: 47.9714\n",
      "Epoch 118/200\n",
      "800/800 [==============================] - 0s 60us/step - loss: 58.6252 - val_loss: 47.0684\n",
      "Epoch 119/200\n",
      "800/800 [==============================] - 0s 63us/step - loss: 51.8567 - val_loss: 40.9032\n",
      "Epoch 120/200\n",
      "800/800 [==============================] - 0s 65us/step - loss: 46.8139 - val_loss: 35.8332\n",
      "Epoch 121/200\n",
      "800/800 [==============================] - 0s 66us/step - loss: 43.3307 - val_loss: 39.5837\n",
      "Epoch 122/200\n",
      "800/800 [==============================] - 0s 61us/step - loss: 41.3085 - val_loss: 34.6233\n",
      "Epoch 123/200\n",
      "800/800 [==============================] - 0s 64us/step - loss: 33.9224 - val_loss: 29.9150\n",
      "Epoch 124/200\n",
      "800/800 [==============================] - 0s 62us/step - loss: 31.3430 - val_loss: 23.0317\n",
      "Epoch 125/200\n",
      "800/800 [==============================] - 0s 65us/step - loss: 29.8489 - val_loss: 20.1487\n",
      "Epoch 126/200\n",
      "800/800 [==============================] - 0s 60us/step - loss: 26.9294 - val_loss: 23.4207\n",
      "Epoch 127/200\n",
      "800/800 [==============================] - 0s 65us/step - loss: 21.5756 - val_loss: 17.2474\n",
      "Epoch 128/200\n",
      "800/800 [==============================] - 0s 61us/step - loss: 19.1804 - val_loss: 14.3784\n",
      "Epoch 129/200\n",
      "800/800 [==============================] - 0s 65us/step - loss: 16.9039 - val_loss: 13.9486\n",
      "Epoch 130/200\n",
      "800/800 [==============================] - 0s 61us/step - loss: 18.3445 - val_loss: 11.4192\n",
      "Epoch 131/200\n",
      "800/800 [==============================] - 0s 63us/step - loss: 13.2219 - val_loss: 10.3808\n",
      "Epoch 132/200\n",
      "800/800 [==============================] - 0s 64us/step - loss: 11.8454 - val_loss: 8.8118\n",
      "Epoch 133/200\n",
      "800/800 [==============================] - 0s 68us/step - loss: 10.5122 - val_loss: 7.7541\n",
      "Epoch 134/200\n",
      "800/800 [==============================] - 0s 62us/step - loss: 8.9795 - val_loss: 6.6487\n",
      "Epoch 135/200\n",
      "800/800 [==============================] - 0s 64us/step - loss: 8.4569 - val_loss: 5.9787\n",
      "Epoch 136/200\n",
      "800/800 [==============================] - 0s 60us/step - loss: 7.6128 - val_loss: 7.7902\n",
      "Epoch 137/200\n",
      "800/800 [==============================] - 0s 44us/step - loss: 7.0135 - val_loss: 13.9161\n",
      "Epoch 138/200\n",
      "800/800 [==============================] - 0s 43us/step - loss: 6.0711 - val_loss: 4.2476\n",
      "Epoch 139/200\n",
      "800/800 [==============================] - 0s 46us/step - loss: 5.1307 - val_loss: 3.6808\n",
      "Epoch 140/200\n",
      "800/800 [==============================] - 0s 41us/step - loss: 4.4581 - val_loss: 3.5774\n",
      "Epoch 141/200\n",
      "800/800 [==============================] - 0s 47us/step - loss: 3.9895 - val_loss: 3.5850\n",
      "Epoch 142/200\n",
      "800/800 [==============================] - 0s 58us/step - loss: 3.5955 - val_loss: 2.8942\n",
      "Epoch 143/200\n",
      "800/800 [==============================] - 0s 54us/step - loss: 3.6479 - val_loss: 3.0327\n",
      "Epoch 144/200\n",
      "800/800 [==============================] - 0s 45us/step - loss: 3.0512 - val_loss: 2.3268\n",
      "Epoch 145/200\n",
      "800/800 [==============================] - 0s 48us/step - loss: 2.4254 - val_loss: 2.1924\n",
      "Epoch 146/200\n",
      "800/800 [==============================] - 0s 46us/step - loss: 2.2184 - val_loss: 2.0789\n",
      "Epoch 147/200\n",
      "800/800 [==============================] - 0s 49us/step - loss: 2.2119 - val_loss: 2.1925\n",
      "Epoch 148/200\n",
      "800/800 [==============================] - 0s 68us/step - loss: 2.0410 - val_loss: 2.1382\n",
      "Epoch 149/200\n",
      "800/800 [==============================] - 0s 62us/step - loss: 1.9051 - val_loss: 1.5919\n",
      "Epoch 150/200\n",
      "800/800 [==============================] - 0s 59us/step - loss: 1.7484 - val_loss: 1.4515\n",
      "Epoch 151/200\n",
      "800/800 [==============================] - 0s 64us/step - loss: 1.6047 - val_loss: 1.4562\n",
      "Epoch 152/200\n"
     ]
    },
    {
     "name": "stdout",
     "output_type": "stream",
     "text": [
      "800/800 [==============================] - 0s 61us/step - loss: 1.6316 - val_loss: 1.9904\n",
      "Epoch 153/200\n",
      "800/800 [==============================] - 0s 60us/step - loss: 1.4308 - val_loss: 1.3881\n",
      "Epoch 154/200\n",
      "800/800 [==============================] - 0s 59us/step - loss: 1.3125 - val_loss: 1.3866\n",
      "Epoch 155/200\n",
      "800/800 [==============================] - 0s 60us/step - loss: 1.6083 - val_loss: 1.2214\n",
      "Epoch 156/200\n",
      "800/800 [==============================] - 0s 60us/step - loss: 1.1929 - val_loss: 1.1856\n",
      "Epoch 157/200\n",
      "800/800 [==============================] - 0s 65us/step - loss: 1.2757 - val_loss: 1.2999\n",
      "Epoch 158/200\n",
      "800/800 [==============================] - 0s 59us/step - loss: 1.1631 - val_loss: 1.3089\n",
      "Epoch 159/200\n",
      "800/800 [==============================] - 0s 66us/step - loss: 1.2421 - val_loss: 1.1397\n",
      "Epoch 160/200\n",
      "800/800 [==============================] - 0s 62us/step - loss: 1.1114 - val_loss: 1.1602\n",
      "Epoch 161/200\n",
      "800/800 [==============================] - 0s 64us/step - loss: 1.2858 - val_loss: 1.1328\n",
      "Epoch 162/200\n",
      "800/800 [==============================] - 0s 64us/step - loss: 1.1294 - val_loss: 1.1168\n",
      "Epoch 163/200\n",
      "800/800 [==============================] - 0s 64us/step - loss: 1.1386 - val_loss: 1.2037\n",
      "Epoch 164/200\n",
      "800/800 [==============================] - 0s 62us/step - loss: 1.0805 - val_loss: 1.1277\n",
      "Epoch 165/200\n",
      "800/800 [==============================] - 0s 63us/step - loss: 1.0787 - val_loss: 1.1598\n",
      "Epoch 166/200\n",
      "800/800 [==============================] - 0s 69us/step - loss: 1.1963 - val_loss: 1.4409\n",
      "Epoch 167/200\n",
      "800/800 [==============================] - 0s 60us/step - loss: 1.1643 - val_loss: 2.2120\n",
      "Epoch 168/200\n",
      "800/800 [==============================] - 0s 61us/step - loss: 1.3441 - val_loss: 1.1192\n",
      "Epoch 169/200\n",
      "800/800 [==============================] - 0s 56us/step - loss: 1.1413 - val_loss: 1.2694\n",
      "Epoch 170/200\n",
      "800/800 [==============================] - 0s 55us/step - loss: 1.0593 - val_loss: 1.1491\n",
      "Epoch 171/200\n",
      "800/800 [==============================] - 0s 69us/step - loss: 1.2822 - val_loss: 1.6511\n",
      "Epoch 172/200\n",
      "800/800 [==============================] - 0s 61us/step - loss: 1.2683 - val_loss: 1.4137\n",
      "Epoch 173/200\n",
      "800/800 [==============================] - 0s 61us/step - loss: 1.0422 - val_loss: 1.4658\n",
      "Epoch 174/200\n",
      "800/800 [==============================] - 0s 54us/step - loss: 1.0693 - val_loss: 1.1037\n",
      "Epoch 175/200\n",
      "800/800 [==============================] - 0s 50us/step - loss: 1.1256 - val_loss: 1.1485\n",
      "Epoch 176/200\n",
      "800/800 [==============================] - 0s 62us/step - loss: 1.6269 - val_loss: 1.9888\n",
      "Epoch 177/200\n",
      "800/800 [==============================] - 0s 69us/step - loss: 1.3396 - val_loss: 1.2455\n",
      "Epoch 178/200\n",
      "800/800 [==============================] - 0s 67us/step - loss: 1.1045 - val_loss: 1.2203\n",
      "Epoch 179/200\n",
      "800/800 [==============================] - 0s 69us/step - loss: 1.1165 - val_loss: 1.3145\n",
      "Epoch 180/200\n",
      "800/800 [==============================] - 0s 64us/step - loss: 1.0664 - val_loss: 1.5980\n",
      "Epoch 181/200\n",
      "800/800 [==============================] - 0s 67us/step - loss: 1.3988 - val_loss: 1.7843\n",
      "Epoch 182/200\n",
      "800/800 [==============================] - 0s 66us/step - loss: 1.0563 - val_loss: 1.0987\n",
      "Epoch 183/200\n",
      "800/800 [==============================] - 0s 62us/step - loss: 1.1365 - val_loss: 1.0960\n",
      "Epoch 184/200\n",
      "800/800 [==============================] - 0s 57us/step - loss: 1.1300 - val_loss: 1.1160\n",
      "Epoch 185/200\n",
      "800/800 [==============================] - 0s 43us/step - loss: 1.1170 - val_loss: 1.1046\n",
      "Epoch 186/200\n",
      "800/800 [==============================] - 0s 48us/step - loss: 1.2539 - val_loss: 1.9455\n",
      "Epoch 187/200\n",
      "800/800 [==============================] - 0s 47us/step - loss: 1.1982 - val_loss: 1.1240\n",
      "Epoch 188/200\n",
      "800/800 [==============================] - 0s 44us/step - loss: 1.1639 - val_loss: 1.1122\n",
      "Epoch 189/200\n",
      "800/800 [==============================] - 0s 40us/step - loss: 1.0401 - val_loss: 1.2772\n",
      "Epoch 190/200\n",
      "800/800 [==============================] - 0s 54us/step - loss: 1.1638 - val_loss: 1.1211\n",
      "Epoch 191/200\n",
      "800/800 [==============================] - 0s 68us/step - loss: 1.2974 - val_loss: 1.1542\n",
      "Epoch 192/200\n",
      "800/800 [==============================] - 0s 62us/step - loss: 1.1561 - val_loss: 1.2312\n",
      "Epoch 193/200\n",
      "800/800 [==============================] - 0s 64us/step - loss: 1.1348 - val_loss: 1.1623\n",
      "Epoch 194/200\n",
      "800/800 [==============================] - 0s 63us/step - loss: 1.0884 - val_loss: 1.4209\n",
      "Epoch 195/200\n",
      "800/800 [==============================] - 0s 62us/step - loss: 1.0616 - val_loss: 1.1349\n",
      "Epoch 196/200\n",
      "800/800 [==============================] - 0s 62us/step - loss: 1.1258 - val_loss: 1.2846\n",
      "Epoch 197/200\n",
      "800/800 [==============================] - 0s 61us/step - loss: 1.0278 - val_loss: 1.1438\n",
      "Epoch 198/200\n",
      "800/800 [==============================] - 0s 67us/step - loss: 1.0960 - val_loss: 1.4255\n",
      "Epoch 199/200\n",
      "800/800 [==============================] - 0s 68us/step - loss: 1.2332 - val_loss: 1.1129\n",
      "Epoch 200/200\n",
      "800/800 [==============================] - 0s 60us/step - loss: 1.4512 - val_loss: 1.1788\n"
     ]
    }
   ],
   "source": [
    "# train\n",
    "hist = model.fit([prices[trn], xs[trn]], y[trn],\n",
    "                 validation_data=[[prices[tst], xs[tst]], y[tst]],\n",
    "                 epochs=200)"
   ]
  },
  {
   "cell_type": "markdown",
   "metadata": {},
   "source": [
    "## Price optimization"
   ]
  },
  {
   "cell_type": "code",
   "execution_count": 16,
   "metadata": {},
   "outputs": [],
   "source": [
    "# make model copy for price\n",
    "model_p = keras.models.clone_model(model)\n",
    "model_p.set_weights(model.get_weights())"
   ]
  },
  {
   "cell_type": "code",
   "execution_count": 17,
   "metadata": {},
   "outputs": [],
   "source": [
    "# \"freeze\" the model\n",
    "# we want our model for demand to stay the same\n",
    "# while the price input is optimized\n",
    "for layer in model_p.layers:\n",
    "    layer.trainable = False"
   ]
  },
  {
   "cell_type": "code",
   "execution_count": 18,
   "metadata": {},
   "outputs": [
    {
     "data": {
      "text/plain": [
       "{'concat': <keras.layers.merge.Concatenate at 0x1259eeba8>,\n",
       " 'hid': <keras.layers.core.Dense at 0x125903780>,\n",
       " 'inp_p': <keras.engine.topology.InputLayer at 0x11c87f978>,\n",
       " 'inp_x': <keras.engine.topology.InputLayer at 0x11c87fcc0>,\n",
       " 'out': <keras.layers.core.Dense at 0x1259f1780>}"
      ]
     },
     "execution_count": 18,
     "metadata": {},
     "output_type": "execute_result"
    }
   ],
   "source": [
    "# dict of layers\n",
    "ls = {l.name:l for l in model_p.layers}\n",
    "ls"
   ]
  },
  {
   "cell_type": "code",
   "execution_count": 19,
   "metadata": {
    "scrolled": true
   },
   "outputs": [],
   "source": [
    "# add a single unit dense inbetween price input and hidden layer\n",
    "# this will create a single trainable weight\n",
    "# we will feed the input all 1's so it can learn the optimal price\n",
    "p = Dense(1, use_bias=False, name='price')(ls['inp_p'].output)"
   ]
  },
  {
   "cell_type": "code",
   "execution_count": 20,
   "metadata": {},
   "outputs": [],
   "source": [
    "# concat the inputs and send through hidden layers like before\n",
    "x = ls['concat']([p, ls['inp_x'].output])\n",
    "x = ls['hid'](x)\n",
    "x = ls['out'](x)"
   ]
  },
  {
   "cell_type": "code",
   "execution_count": 21,
   "metadata": {},
   "outputs": [],
   "source": [
    "# our output of the last model was an estimate for demand\n",
    "# so now we multiply that by the trained price to get revenue\n",
    "out = Multiply(name='revenue_out')([p, x])"
   ]
  },
  {
   "cell_type": "code",
   "execution_count": 22,
   "metadata": {},
   "outputs": [],
   "source": [
    "# build model\n",
    "model_p = Model([ls['inp_p'].input, ls['inp_x'].input], out)"
   ]
  },
  {
   "cell_type": "code",
   "execution_count": 23,
   "metadata": {},
   "outputs": [],
   "source": [
    "# we want to maximize revenue, but keras minizises loss\n",
    "# so we'll just make our loss the negative revenue\n",
    "def rev_loss(y_true, y_pred):\n",
    "    return -K.mean(y_pred)"
   ]
  },
  {
   "cell_type": "code",
   "execution_count": 24,
   "metadata": {},
   "outputs": [],
   "source": [
    "# compile model\n",
    "model_p.compile(Adam(lr=.1), loss=rev_loss)"
   ]
  },
  {
   "cell_type": "code",
   "execution_count": 25,
   "metadata": {},
   "outputs": [],
   "source": [
    "# callback to track layer weights\n",
    "class WtTracker(keras.callbacks.Callback):\n",
    "    def __init__(self, layer, display=10):\n",
    "        self.seen = 0\n",
    "        self.layer = layer\n",
    "        self.display = display\n",
    "\n",
    "    def on_epoch_end(self,batch,logs={}):\n",
    "        self.seen += 1\n",
    "        if self.seen % self.display == 0:\n",
    "            wts = self.layer.get_weights()[0].flatten().round(2)\n",
    "            print(f'epoch {self.seen}, price {wts}')"
   ]
  },
  {
   "cell_type": "code",
   "execution_count": 27,
   "metadata": {
    "scrolled": true
   },
   "outputs": [
    {
     "name": "stdout",
     "output_type": "stream",
     "text": [
      "epoch 10, price [29.89]\n",
      "epoch 20, price [54.09]\n",
      "epoch 30, price [72.58]\n",
      "epoch 40, price [85.48]\n",
      "epoch 50, price [93.42]\n",
      "epoch 60, price [97.6]\n",
      "epoch 70, price [99.43]\n",
      "epoch 80, price [100.08]\n",
      "epoch 90, price [100.26]\n",
      "epoch 100, price [100.3]\n",
      "epoch 110, price [100.3]\n",
      "epoch 120, price [100.3]\n",
      "epoch 130, price [100.3]\n",
      "epoch 140, price [100.3]\n",
      "epoch 150, price [100.3]\n",
      "epoch 160, price [100.3]\n",
      "epoch 170, price [100.3]\n",
      "epoch 180, price [100.3]\n",
      "epoch 190, price [100.3]\n",
      "epoch 200, price [100.31]\n"
     ]
    }
   ],
   "source": [
    "# train\n",
    "hist = model_p.fit([np.ones((len(xs), 1)), xs], y,\n",
    "                   epochs=200,\n",
    "                   verbose=0,\n",
    "                   callbacks=[WtTracker(model_p.get_layer('price'))])"
   ]
  }
 ],
 "metadata": {
  "kernelspec": {
   "display_name": "Python [conda env:pdfcst]",
   "language": "python",
   "name": "conda-env-pdfcst-py"
  },
  "language_info": {
   "codemirror_mode": {
    "name": "ipython",
    "version": 3
   },
   "file_extension": ".py",
   "mimetype": "text/x-python",
   "name": "python",
   "nbconvert_exporter": "python",
   "pygments_lexer": "ipython3",
   "version": "3.6.4"
  }
 },
 "nbformat": 4,
 "nbformat_minor": 2
}
