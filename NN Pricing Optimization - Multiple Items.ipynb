{
 "cells": [
  {
   "cell_type": "code",
   "execution_count": 1,
   "metadata": {},
   "outputs": [],
   "source": [
    "import numpy as np\n",
    "import matplotlib.pylab as plt\n",
    "%matplotlib inline"
   ]
  },
  {
   "cell_type": "code",
   "execution_count": 3,
   "metadata": {},
   "outputs": [],
   "source": [
    "import keras\n",
    "import keras.backend as K\n",
    "from keras.models import Sequential, Model\n",
    "from keras.layers import *\n",
    "from keras.optimizers import Adam"
   ]
  },
  {
   "cell_type": "code",
   "execution_count": 4,
   "metadata": {},
   "outputs": [],
   "source": [
    "np.set_printoptions(suppress=True)"
   ]
  },
  {
   "cell_type": "markdown",
   "metadata": {},
   "source": [
    "# MULTIPLE ITEMS"
   ]
  },
  {
   "cell_type": "markdown",
   "metadata": {},
   "source": [
    "## Generate data"
   ]
  },
  {
   "cell_type": "code",
   "execution_count": 5,
   "metadata": {},
   "outputs": [],
   "source": [
    "n = 5000"
   ]
  },
  {
   "cell_type": "code",
   "execution_count": 6,
   "metadata": {},
   "outputs": [],
   "source": [
    "prices = np.random.uniform(50, 200, size=(n, 1)).astype(np.float32)\n",
    "xs = np.random.normal(size=(n,5)).astype(np.float32)"
   ]
  },
  {
   "cell_type": "code",
   "execution_count": 7,
   "metadata": {},
   "outputs": [],
   "source": [
    "# create input for item ids, we'll make 5\n",
    "ids = np.tile([0,1,2,3,4], n//5).reshape(-1,1)"
   ]
  },
  {
   "cell_type": "code",
   "execution_count": 8,
   "metadata": {},
   "outputs": [],
   "source": [
    "# create beta coefficients\n",
    "beta_0 = np.array([500],)\n",
    "\n",
    "beta_p = np.array([-1.4,\n",
    "                   -1.5,\n",
    "                   -1.6,\n",
    "                   -1.8,\n",
    "                   -2.0],)\n",
    "\n",
    "betas_x = np.random.normal(size=(5,1)).astype(np.float32)\n",
    "# betas_x"
   ]
  },
  {
   "cell_type": "code",
   "execution_count": 9,
   "metadata": {},
   "outputs": [
    {
     "data": {
      "text/plain": [
       "array([178.57, 166.67, 156.25, 138.89, 125.  ])"
      ]
     },
     "execution_count": 9,
     "metadata": {},
     "output_type": "execute_result"
    }
   ],
   "source": [
    "# optimal prices\n",
    "opt_prices = (-beta_0/(2*beta_p)).round(2)\n",
    "opt_prices"
   ]
  },
  {
   "cell_type": "code",
   "execution_count": 10,
   "metadata": {},
   "outputs": [],
   "source": [
    "# noise\n",
    "noise = np.random.normal(size=(n,1)).astype(np.float32)"
   ]
  },
  {
   "cell_type": "code",
   "execution_count": 11,
   "metadata": {},
   "outputs": [],
   "source": [
    "# create demand to forecast\n",
    "y = beta_0 + beta_p[ids]*prices + np.dot(xs, betas_x) + noise\n",
    "y = np.maximum(0, y)"
   ]
  },
  {
   "cell_type": "code",
   "execution_count": 12,
   "metadata": {},
   "outputs": [],
   "source": [
    "# plt.hist(y)"
   ]
  },
  {
   "cell_type": "code",
   "execution_count": 13,
   "metadata": {},
   "outputs": [],
   "source": [
    "trn = np.arange(int(n*.8))\n",
    "tst = np.arange(int(n*.8), n)"
   ]
  },
  {
   "cell_type": "markdown",
   "metadata": {},
   "source": [
    "## Model demand"
   ]
  },
  {
   "cell_type": "code",
   "execution_count": 14,
   "metadata": {},
   "outputs": [],
   "source": [
    "# price and X inputs\n",
    "inp_p = Input((1,), name='inp_p')\n",
    "inp_x = Input((5,), name='inp_x')"
   ]
  },
  {
   "cell_type": "code",
   "execution_count": 15,
   "metadata": {},
   "outputs": [],
   "source": [
    "# going to use embeddings to learn the \"coefficient\" for each item\n",
    "inp_ids = Input((1,), name='inp_ids')\n",
    "ids_emb = Embedding(input_dim=5, output_dim=1, name='ids_emb')(inp_ids)\n",
    "ids_emb = Reshape((1,), name='ids_emb_re')(ids_emb)\n",
    "\n",
    "# multiply the embedding coefficient by price\n",
    "x = Multiply(name='mult_p_emb')([ids_emb, inp_p])"
   ]
  },
  {
   "cell_type": "code",
   "execution_count": 16,
   "metadata": {},
   "outputs": [],
   "source": [
    "# concat the inputs\n",
    "x = Concatenate(name='concat')([x, inp_x])\n",
    "\n",
    "# single dense hidden layer\n",
    "x = Dense(10, name='hid')(x)\n",
    "\n",
    "# output for predicting demand\n",
    "out = Dense(1, name='out')(x)\n",
    "\n",
    "# build and compile the model\n",
    "model = Model([inp_ids, inp_p, inp_x], out)\n",
    "model.compile(Adam(lr=.01), loss='mean_squared_error')"
   ]
  },
  {
   "cell_type": "code",
   "execution_count": 17,
   "metadata": {
    "scrolled": true
   },
   "outputs": [
    {
     "name": "stdout",
     "output_type": "stream",
     "text": [
      "Train on 4000 samples, validate on 1000 samples\n",
      "Epoch 1/50\n",
      "4000/4000 [==============================] - 0s 89us/step - loss: 39606.5373 - val_loss: 27731.9032\n",
      "Epoch 2/50\n",
      "4000/4000 [==============================] - 0s 74us/step - loss: 26204.2215 - val_loss: 27040.9711\n",
      "Epoch 3/50\n",
      "4000/4000 [==============================] - 0s 70us/step - loss: 25456.9604 - val_loss: 26112.5016\n",
      "Epoch 4/50\n",
      "4000/4000 [==============================] - 0s 78us/step - loss: 24253.8289 - val_loss: 24425.5273\n",
      "Epoch 5/50\n",
      "4000/4000 [==============================] - 0s 77us/step - loss: 22018.0443 - val_loss: 21016.6730\n",
      "Epoch 6/50\n",
      "4000/4000 [==============================] - 0s 79us/step - loss: 17616.8102 - val_loss: 15142.1739\n",
      "Epoch 7/50\n",
      "4000/4000 [==============================] - 0s 78us/step - loss: 11296.0668 - val_loss: 9083.6958\n",
      "Epoch 8/50\n",
      "4000/4000 [==============================] - 0s 76us/step - loss: 6878.3770 - val_loss: 6292.6108\n",
      "Epoch 9/50\n",
      "4000/4000 [==============================] - 0s 74us/step - loss: 6163.1947 - val_loss: 6163.5117\n",
      "Epoch 10/50\n",
      "4000/4000 [==============================] - 0s 76us/step - loss: 6125.0961 - val_loss: 5845.3036\n",
      "Epoch 11/50\n",
      "4000/4000 [==============================] - 0s 79us/step - loss: 3509.5794 - val_loss: 1501.0823\n",
      "Epoch 12/50\n",
      "4000/4000 [==============================] - 0s 74us/step - loss: 730.3059 - val_loss: 280.5415\n",
      "Epoch 13/50\n",
      "4000/4000 [==============================] - 0s 74us/step - loss: 116.3955 - val_loss: 35.4064\n",
      "Epoch 14/50\n",
      "4000/4000 [==============================] - 0s 70us/step - loss: 13.8069 - val_loss: 4.6262\n",
      "Epoch 15/50\n",
      "4000/4000 [==============================] - 0s 65us/step - loss: 2.1999 - val_loss: 1.2697\n",
      "Epoch 16/50\n",
      "4000/4000 [==============================] - 0s 74us/step - loss: 1.1866 - val_loss: 1.0629\n",
      "Epoch 17/50\n",
      "4000/4000 [==============================] - 0s 66us/step - loss: 1.1330 - val_loss: 1.2361\n",
      "Epoch 18/50\n",
      "4000/4000 [==============================] - 0s 70us/step - loss: 1.1470 - val_loss: 1.1927\n",
      "Epoch 19/50\n",
      "4000/4000 [==============================] - 0s 71us/step - loss: 1.1204 - val_loss: 1.0384\n",
      "Epoch 20/50\n",
      "4000/4000 [==============================] - 0s 75us/step - loss: 1.0769 - val_loss: 1.0513\n",
      "Epoch 21/50\n",
      "4000/4000 [==============================] - 0s 73us/step - loss: 1.0981 - val_loss: 1.0762\n",
      "Epoch 22/50\n",
      "4000/4000 [==============================] - 0s 69us/step - loss: 1.1520 - val_loss: 1.4212\n",
      "Epoch 23/50\n",
      "4000/4000 [==============================] - 0s 70us/step - loss: 1.1922 - val_loss: 1.1362\n",
      "Epoch 24/50\n",
      "4000/4000 [==============================] - 0s 71us/step - loss: 1.1490 - val_loss: 1.3196\n",
      "Epoch 25/50\n",
      "4000/4000 [==============================] - 0s 69us/step - loss: 1.3380 - val_loss: 1.2322\n",
      "Epoch 26/50\n",
      "4000/4000 [==============================] - 0s 67us/step - loss: 1.1978 - val_loss: 1.0641\n",
      "Epoch 27/50\n",
      "4000/4000 [==============================] - 0s 72us/step - loss: 1.1965 - val_loss: 1.1039\n",
      "Epoch 28/50\n",
      "4000/4000 [==============================] - 0s 71us/step - loss: 1.2776 - val_loss: 1.2742\n",
      "Epoch 29/50\n",
      "4000/4000 [==============================] - 0s 70us/step - loss: 1.2525 - val_loss: 1.0978\n",
      "Epoch 30/50\n",
      "4000/4000 [==============================] - 0s 70us/step - loss: 1.2977 - val_loss: 1.3280\n",
      "Epoch 31/50\n",
      "4000/4000 [==============================] - 0s 70us/step - loss: 1.1907 - val_loss: 1.0896\n",
      "Epoch 32/50\n",
      "4000/4000 [==============================] - 0s 69us/step - loss: 1.4159 - val_loss: 1.1083\n",
      "Epoch 33/50\n",
      "4000/4000 [==============================] - 0s 71us/step - loss: 1.3557 - val_loss: 1.0563\n",
      "Epoch 34/50\n",
      "4000/4000 [==============================] - 0s 72us/step - loss: 1.2947 - val_loss: 1.3412\n",
      "Epoch 35/50\n",
      "4000/4000 [==============================] - 0s 70us/step - loss: 1.7196 - val_loss: 1.1033\n",
      "Epoch 36/50\n",
      "4000/4000 [==============================] - 0s 73us/step - loss: 1.3704 - val_loss: 2.3987\n",
      "Epoch 37/50\n",
      "4000/4000 [==============================] - 0s 71us/step - loss: 1.6398 - val_loss: 1.2522\n",
      "Epoch 38/50\n",
      "4000/4000 [==============================] - 0s 72us/step - loss: 1.8335 - val_loss: 4.6609\n",
      "Epoch 39/50\n",
      "4000/4000 [==============================] - 0s 71us/step - loss: 1.8198 - val_loss: 1.3646\n",
      "Epoch 40/50\n",
      "4000/4000 [==============================] - 0s 73us/step - loss: 1.4539 - val_loss: 1.5408\n",
      "Epoch 41/50\n",
      "4000/4000 [==============================] - 0s 73us/step - loss: 2.0013 - val_loss: 1.4886\n",
      "Epoch 42/50\n",
      "4000/4000 [==============================] - 0s 73us/step - loss: 2.3027 - val_loss: 1.4679\n",
      "Epoch 43/50\n",
      "4000/4000 [==============================] - 0s 70us/step - loss: 1.6941 - val_loss: 1.4105\n",
      "Epoch 44/50\n",
      "4000/4000 [==============================] - 0s 72us/step - loss: 2.2374 - val_loss: 1.4275\n",
      "Epoch 45/50\n",
      "4000/4000 [==============================] - 0s 67us/step - loss: 2.1493 - val_loss: 1.4927\n",
      "Epoch 46/50\n",
      "4000/4000 [==============================] - 0s 64us/step - loss: 2.9757 - val_loss: 1.7794\n",
      "Epoch 47/50\n",
      "4000/4000 [==============================] - 0s 58us/step - loss: 2.5863 - val_loss: 1.7918\n",
      "Epoch 48/50\n",
      "4000/4000 [==============================] - 0s 61us/step - loss: 2.9160 - val_loss: 1.4937\n",
      "Epoch 49/50\n",
      "4000/4000 [==============================] - 0s 62us/step - loss: 2.1792 - val_loss: 5.1914\n",
      "Epoch 50/50\n",
      "4000/4000 [==============================] - 0s 64us/step - loss: 2.6854 - val_loss: 1.6384\n"
     ]
    }
   ],
   "source": [
    "# train\n",
    "hist = model.fit([ids[trn], prices[trn], xs[trn]], y[trn],\n",
    "                 validation_data=[[ids[tst], prices[tst], xs[tst]], y[tst]],\n",
    "                 epochs=50)"
   ]
  },
  {
   "cell_type": "markdown",
   "metadata": {},
   "source": [
    "## Price optimization"
   ]
  },
  {
   "cell_type": "code",
   "execution_count": 18,
   "metadata": {},
   "outputs": [],
   "source": [
    "# make model copy for price\n",
    "model_p = keras.models.clone_model(model)\n",
    "model_p.set_weights(model.get_weights())"
   ]
  },
  {
   "cell_type": "code",
   "execution_count": 19,
   "metadata": {},
   "outputs": [],
   "source": [
    "# \"freeze\" the model\n",
    "for layer in model_p.layers:\n",
    "    layer.trainable = False"
   ]
  },
  {
   "cell_type": "code",
   "execution_count": 20,
   "metadata": {},
   "outputs": [
    {
     "data": {
      "text/plain": [
       "{'concat': <keras.layers.merge.Concatenate at 0x10fd1a0f0>,\n",
       " 'hid': <keras.layers.core.Dense at 0x11dc08860>,\n",
       " 'ids_emb': <keras.layers.embeddings.Embedding at 0x11dbef4e0>,\n",
       " 'ids_emb_re': <keras.layers.core.Reshape at 0x10fd84f60>,\n",
       " 'inp_ids': <keras.engine.topology.InputLayer at 0x10a46ba20>,\n",
       " 'inp_p': <keras.engine.topology.InputLayer at 0x10a46b470>,\n",
       " 'inp_x': <keras.engine.topology.InputLayer at 0x10fd1a048>,\n",
       " 'mult_p_emb': <keras.layers.merge.Multiply at 0x10fd1ac18>,\n",
       " 'out': <keras.layers.core.Dense at 0x11dc1cf98>}"
      ]
     },
     "execution_count": 20,
     "metadata": {},
     "output_type": "execute_result"
    }
   ],
   "source": [
    "ls = {l.name:l for l in model_p.layers}\n",
    "ls"
   ]
  },
  {
   "cell_type": "code",
   "execution_count": 21,
   "metadata": {},
   "outputs": [],
   "source": [
    "# id price embeddings\n",
    "# lets us \"train\" a price for every id\n",
    "p = Embedding(input_dim=5, output_dim=1, name='ids_price')(ls['inp_ids'].output)\n",
    "p = Reshape((1,), name='ids_price_re')(p)"
   ]
  },
  {
   "cell_type": "code",
   "execution_count": 22,
   "metadata": {},
   "outputs": [],
   "source": [
    "x = ls['mult_p_emb']([p, ls['ids_emb_re'].output, ls['inp_p'].output])"
   ]
  },
  {
   "cell_type": "code",
   "execution_count": 23,
   "metadata": {},
   "outputs": [],
   "source": [
    "# concat the inputs and send through hidden layers like before\n",
    "x = ls['concat']([x, ls['inp_x'].output])\n",
    "x = ls['hid'](x)\n",
    "x = ls['out'](x)"
   ]
  },
  {
   "cell_type": "code",
   "execution_count": 24,
   "metadata": {},
   "outputs": [],
   "source": [
    "# our output of the last model was an estimate for demand\n",
    "# so now we multiply that by the price to get revenue\n",
    "out = Multiply(name='revenue_out')([p, x])"
   ]
  },
  {
   "cell_type": "code",
   "execution_count": 25,
   "metadata": {},
   "outputs": [],
   "source": [
    "# build model\n",
    "model_p = Model([ls['inp_ids'].input, ls['inp_p'].input, ls['inp_x'].input], out)"
   ]
  },
  {
   "cell_type": "code",
   "execution_count": 26,
   "metadata": {},
   "outputs": [],
   "source": [
    "# revenue loss\n",
    "def rev_loss(y_true, y_pred):\n",
    "    return -K.mean(y_pred)"
   ]
  },
  {
   "cell_type": "code",
   "execution_count": 27,
   "metadata": {},
   "outputs": [],
   "source": [
    "# compile model\n",
    "model_p.compile(Adam(lr=.1), loss=rev_loss)"
   ]
  },
  {
   "cell_type": "code",
   "execution_count": 28,
   "metadata": {},
   "outputs": [],
   "source": [
    "# callback to track layer weights\n",
    "class WtTracker(keras.callbacks.Callback):\n",
    "    def __init__(self, layer, display=5):\n",
    "        self.seen = 0\n",
    "        self.layer = layer\n",
    "        self.display = display\n",
    "\n",
    "    def on_epoch_end(self,batch,logs={}):\n",
    "        self.seen += 1\n",
    "        if self.seen % self.display == 0:\n",
    "            wts = self.layer.get_weights()[0].flatten().round(2)\n",
    "            print(f'epoch {self.seen}, price {wts}')"
   ]
  },
  {
   "cell_type": "code",
   "execution_count": 29,
   "metadata": {},
   "outputs": [
    {
     "data": {
      "text/plain": [
       "[178.57, 166.67, 156.25, 138.89, 125.0]"
      ]
     },
     "execution_count": 29,
     "metadata": {},
     "output_type": "execute_result"
    }
   ],
   "source": [
    "# calculated optimal prices for reference\n",
    "list(opt_prices)"
   ]
  },
  {
   "cell_type": "code",
   "execution_count": 30,
   "metadata": {
    "scrolled": true
   },
   "outputs": [
    {
     "name": "stdout",
     "output_type": "stream",
     "text": [
      "epoch 5, price [66.04 65.89 66.4  64.46 64.04]\n",
      "epoch 10, price [117.38 115.48 113.8  107.89 103.51]\n",
      "epoch 15, price [152.25 147.4  141.93 130.25 120.61]\n",
      "epoch 20, price [170.64 162.62 153.57 137.19 124.5 ]\n",
      "epoch 25, price [176.88 166.97 156.14 138.17 124.84]\n",
      "epoch 30, price [177.93 167.52 156.37 138.22 124.85]\n",
      "epoch 35, price [177.99 167.54 156.37 138.21 124.85]\n",
      "epoch 40, price [177.99 167.54 156.38 138.21 124.83]\n",
      "epoch 45, price [177.99 167.55 156.35 138.21 124.87]\n",
      "epoch 50, price [177.99 167.57 156.4  138.17 124.84]\n"
     ]
    }
   ],
   "source": [
    "# train\n",
    "hist = model_p.fit([ids, np.ones((len(xs), 1)), xs], y,\n",
    "                   epochs=50,\n",
    "                   verbose=0,\n",
    "                   callbacks=[WtTracker(model_p.get_layer('ids_price'))])"
   ]
  }
 ],
 "metadata": {
  "kernelspec": {
   "display_name": "Python [conda env:pdfcst]",
   "language": "python",
   "name": "conda-env-pdfcst-py"
  },
  "language_info": {
   "codemirror_mode": {
    "name": "ipython",
    "version": 3
   },
   "file_extension": ".py",
   "mimetype": "text/x-python",
   "name": "python",
   "nbconvert_exporter": "python",
   "pygments_lexer": "ipython3",
   "version": "3.6.4"
  }
 },
 "nbformat": 4,
 "nbformat_minor": 2
}
