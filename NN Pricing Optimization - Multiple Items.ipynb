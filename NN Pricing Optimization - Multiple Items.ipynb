{
 "cells": [
  {
   "cell_type": "code",
   "execution_count": 1,
   "metadata": {},
   "outputs": [],
   "source": [
    "import numpy as np\n",
    "import matplotlib.pylab as plt\n",
    "%matplotlib inline"
   ]
  },
  {
   "cell_type": "code",
   "execution_count": 3,
   "metadata": {},
   "outputs": [],
   "source": [
    "import keras\n",
    "import keras.backend as K\n",
    "from keras.models import Sequential, Model\n",
    "from keras.layers import *\n",
    "from keras.optimizers import Adam"
   ]
  },
  {
   "cell_type": "code",
   "execution_count": 4,
   "metadata": {},
   "outputs": [],
   "source": [
    "np.set_printoptions(suppress=True)"
   ]
  },
  {
   "cell_type": "markdown",
   "metadata": {},
   "source": [
    "# MULTIPLE ITEMS"
   ]
  },
  {
   "cell_type": "markdown",
   "metadata": {},
   "source": [
    "## Generate data"
   ]
  },
  {
   "cell_type": "code",
   "execution_count": 5,
   "metadata": {},
   "outputs": [],
   "source": [
    "n = 5000"
   ]
  },
  {
   "cell_type": "code",
   "execution_count": 6,
   "metadata": {},
   "outputs": [],
   "source": [
    "prices = np.random.uniform(50, 200, size=(n, 1)).astype(np.float32)\n",
    "xs = np.random.normal(size=(n,5)).astype(np.float32)"
   ]
  },
  {
   "cell_type": "code",
   "execution_count": 7,
   "metadata": {},
   "outputs": [],
   "source": [
    "# create input for item ids, we'll make 5\n",
    "ids = np.tile([0,1,2,3,4], n//5).reshape(-1,1)"
   ]
  },
  {
   "cell_type": "code",
   "execution_count": 8,
   "metadata": {},
   "outputs": [],
   "source": [
    "# create beta coefficients\n",
    "beta_0 = np.array([500],)\n",
    "\n",
    "beta_p = np.array([-1.4,\n",
    "                   -1.5,\n",
    "                   -1.6,\n",
    "                   -1.8,\n",
    "                   -2.0],)\n",
    "\n",
    "betas_x = np.random.normal(size=(5,1)).astype(np.float32)\n",
    "# betas_x"
   ]
  },
  {
   "cell_type": "code",
   "execution_count": 9,
   "metadata": {},
   "outputs": [
    {
     "data": {
      "text/plain": [
       "array([178.57, 166.67, 156.25, 138.89, 125.  ])"
      ]
     },
     "execution_count": 9,
     "metadata": {},
     "output_type": "execute_result"
    }
   ],
   "source": [
    "# optimal prices\n",
    "opt_prices = (-beta_0/(2*beta_p)).round(2)\n",
    "opt_prices"
   ]
  },
  {
   "cell_type": "code",
   "execution_count": 10,
   "metadata": {},
   "outputs": [],
   "source": [
    "# noise\n",
    "noise = np.random.normal(size=(n,1)).astype(np.float32)"
   ]
  },
  {
   "cell_type": "code",
   "execution_count": 11,
   "metadata": {},
   "outputs": [],
   "source": [
    "# create demand to forecast\n",
    "y = beta_0 + beta_p[ids]*prices + np.dot(xs, betas_x) + noise\n",
    "y = np.maximum(0, y)"
   ]
  },
  {
   "cell_type": "code",
   "execution_count": 12,
   "metadata": {},
   "outputs": [],
   "source": [
    "# plt.hist(y)"
   ]
  },
  {
   "cell_type": "code",
   "execution_count": 13,
   "metadata": {},
   "outputs": [],
   "source": [
    "trn = np.arange(int(n*.8))\n",
    "tst = np.arange(int(n*.8), n)"
   ]
  },
  {
   "cell_type": "markdown",
   "metadata": {},
   "source": [
    "## Model demand"
   ]
  },
  {
   "cell_type": "code",
   "execution_count": 14,
   "metadata": {},
   "outputs": [],
   "source": [
    "# price and X inputs\n",
    "inp_p = Input((1,), name='inp_p')\n",
    "inp_x = Input((5,), name='inp_x')"
   ]
  },
  {
   "cell_type": "code",
   "execution_count": 15,
   "metadata": {},
   "outputs": [],
   "source": [
    "# going to use embeddings to learn the \"coefficient\" for each item\n",
    "inp_ids = Input((1,), name='inp_ids')\n",
    "ids_emb = Embedding(input_dim=5, output_dim=1, name='ids_emb')(inp_ids)\n",
    "ids_emb = Reshape((1,), name='ids_emb_re')(ids_emb)\n",
    "\n",
    "# multiply the embedding coefficient by price\n",
    "x = Multiply(name='mult_p_emb')([ids_emb, inp_p])"
   ]
  },
  {
   "cell_type": "code",
   "execution_count": 16,
   "metadata": {},
   "outputs": [],
   "source": [
    "# concat the inputs\n",
    "x = Concatenate(name='concat')([x, inp_x])\n",
    "\n",
    "# single dense hidden layer\n",
    "x = Dense(10, name='hid')(x)\n",
    "\n",
    "# output for predicting demand\n",
    "out = Dense(1, name='out')(x)\n",
    "\n",
    "# build and compile the model\n",
    "model = Model([inp_ids, inp_p, inp_x], out)\n",
    "model.compile(Adam(lr=.01), loss='mean_squared_error')"
   ]
  },
  {
   "cell_type": "code",
   "execution_count": 17,
   "metadata": {
    "scrolled": true
   },
   "outputs": [],
   "source": [
    "# train\n",
    "hist = model.fit([ids[trn], prices[trn], xs[trn]], y[trn],\n",
    "                 validation_data=[[ids[tst], prices[tst], xs[tst]], y[tst]],\n",
    "                 verbose=0,\n",
    "                 epochs=50)"
   ]
  },
  {
   "cell_type": "markdown",
   "metadata": {},
   "source": [
    "## Price optimization"
   ]
  },
  {
   "cell_type": "code",
   "execution_count": 18,
   "metadata": {},
   "outputs": [],
   "source": [
    "# make model copy for price\n",
    "model_p = keras.models.clone_model(model)\n",
    "model_p.set_weights(model.get_weights())"
   ]
  },
  {
   "cell_type": "code",
   "execution_count": 19,
   "metadata": {},
   "outputs": [],
   "source": [
    "# \"freeze\" the model\n",
    "for layer in model_p.layers:\n",
    "    layer.trainable = False"
   ]
  },
  {
   "cell_type": "code",
   "execution_count": 20,
   "metadata": {},
   "outputs": [
    {
     "data": {
      "text/plain": [
       "{'concat': <keras.layers.merge.Concatenate at 0x10fb35048>,\n",
       " 'hid': <keras.layers.core.Dense at 0x10fe71828>,\n",
       " 'ids_emb': <keras.layers.embeddings.Embedding at 0x10fb35128>,\n",
       " 'ids_emb_re': <keras.layers.core.Reshape at 0x10fb35f98>,\n",
       " 'inp_ids': <keras.engine.topology.InputLayer at 0x10e6b49b0>,\n",
       " 'inp_p': <keras.engine.topology.InputLayer at 0x10e6b4e80>,\n",
       " 'inp_x': <keras.engine.topology.InputLayer at 0x10e6b4d30>,\n",
       " 'mult_p_emb': <keras.layers.merge.Multiply at 0x10fb35be0>,\n",
       " 'out': <keras.layers.core.Dense at 0x10fe86f60>}"
      ]
     },
     "execution_count": 20,
     "metadata": {},
     "output_type": "execute_result"
    }
   ],
   "source": [
    "ls = {l.name:l for l in model_p.layers}\n",
    "ls"
   ]
  },
  {
   "cell_type": "code",
   "execution_count": 21,
   "metadata": {},
   "outputs": [],
   "source": [
    "# id price embeddings\n",
    "# lets us \"train\" a price for every id\n",
    "p = Embedding(input_dim=5, output_dim=1, name='ids_price')(ls['inp_ids'].output)\n",
    "p = Reshape((1,), name='ids_price_re')(p)"
   ]
  },
  {
   "cell_type": "code",
   "execution_count": 22,
   "metadata": {},
   "outputs": [],
   "source": [
    "x = ls['mult_p_emb']([p, ls['ids_emb_re'].output, ls['inp_p'].output])"
   ]
  },
  {
   "cell_type": "code",
   "execution_count": 23,
   "metadata": {},
   "outputs": [],
   "source": [
    "# concat the inputs and send through hidden layers like before\n",
    "x = ls['concat']([x, ls['inp_x'].output])\n",
    "x = ls['hid'](x)\n",
    "x = ls['out'](x)"
   ]
  },
  {
   "cell_type": "code",
   "execution_count": 24,
   "metadata": {},
   "outputs": [],
   "source": [
    "# our output of the last model was an estimate for demand\n",
    "# so now we multiply that by the price to get revenue\n",
    "out = Multiply(name='revenue_out')([p, x])"
   ]
  },
  {
   "cell_type": "code",
   "execution_count": 25,
   "metadata": {},
   "outputs": [],
   "source": [
    "# build model\n",
    "model_p = Model([ls['inp_ids'].input, ls['inp_p'].input, ls['inp_x'].input], out)"
   ]
  },
  {
   "cell_type": "code",
   "execution_count": 26,
   "metadata": {},
   "outputs": [],
   "source": [
    "# revenue loss\n",
    "def rev_loss(y_true, y_pred):\n",
    "    return -K.mean(y_pred)"
   ]
  },
  {
   "cell_type": "code",
   "execution_count": 27,
   "metadata": {},
   "outputs": [],
   "source": [
    "# compile model\n",
    "model_p.compile(Adam(lr=.1), loss=rev_loss)"
   ]
  },
  {
   "cell_type": "code",
   "execution_count": 28,
   "metadata": {},
   "outputs": [],
   "source": [
    "# callback to track layer weights\n",
    "class WtTracker(keras.callbacks.Callback):\n",
    "    def __init__(self, layer, display=5):\n",
    "        self.seen = 0\n",
    "        self.layer = layer\n",
    "        self.display = display\n",
    "\n",
    "    def on_epoch_end(self,batch,logs={}):\n",
    "        self.seen += 1\n",
    "        if self.seen % self.display == 0:\n",
    "            wts = self.layer.get_weights()[0].flatten().round(2)\n",
    "            print(f'epoch {self.seen}, price {wts}')"
   ]
  },
  {
   "cell_type": "code",
   "execution_count": 29,
   "metadata": {},
   "outputs": [
    {
     "data": {
      "text/plain": [
       "[178.57, 166.67, 156.25, 138.89, 125.0]"
      ]
     },
     "execution_count": 29,
     "metadata": {},
     "output_type": "execute_result"
    }
   ],
   "source": [
    "# calculated optimal prices for reference\n",
    "list(opt_prices)"
   ]
  },
  {
   "cell_type": "code",
   "execution_count": 30,
   "metadata": {
    "scrolled": true
   },
   "outputs": [
    {
     "name": "stdout",
     "output_type": "stream",
     "text": [
      "epoch 5, price [66.16 65.66 65.79 64.22 63.15]\n",
      "epoch 10, price [117.3  114.62 113.2  107.59 102.57]\n",
      "epoch 15, price [151.98 145.96 141.98 129.85 119.62]\n",
      "epoch 20, price [170.19 160.78 154.13 136.82 123.47]\n",
      "epoch 25, price [176.31 164.87 156.97 137.8  123.79]\n",
      "epoch 30, price [177.33 165.38 157.24 137.85 123.81]\n",
      "epoch 35, price [177.39 165.4  157.25 137.85 123.81]\n",
      "epoch 40, price [177.38 165.4  157.26 137.85 123.82]\n",
      "epoch 45, price [177.39 165.39 157.25 137.83 123.83]\n",
      "epoch 50, price [177.38 165.39 157.25 137.84 123.8 ]\n"
     ]
    }
   ],
   "source": [
    "# train\n",
    "hist = model_p.fit([ids, np.ones((len(xs), 1)), xs], y,\n",
    "                   epochs=50,\n",
    "                   verbose=0,\n",
    "                   callbacks=[WtTracker(model_p.get_layer('ids_price'))])"
   ]
  }
 ],
 "metadata": {
  "kernelspec": {
   "display_name": "Python [conda env:pdfcst]",
   "language": "python",
   "name": "conda-env-pdfcst-py"
  },
  "language_info": {
   "codemirror_mode": {
    "name": "ipython",
    "version": 3
   },
   "file_extension": ".py",
   "mimetype": "text/x-python",
   "name": "python",
   "nbconvert_exporter": "python",
   "pygments_lexer": "ipython3",
   "version": "3.6.4"
  }
 },
 "nbformat": 4,
 "nbformat_minor": 2
}
